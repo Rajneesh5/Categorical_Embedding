{
 "cells": [
  {
   "cell_type": "markdown",
   "metadata": {},
   "source": [
    "## Visualize dataset using categorical embedding"
   ]
  },
  {
   "cell_type": "markdown",
   "metadata": {},
   "source": [
    "The dataset for this project originates from the [UCI Machine Learning Repository](https://archive.ics.uci.edu/ml/datasets/Census+Income). The datset was donated by Ron Kohavi and Barry Becker, after being published in the article _\"Scaling Up the Accuracy of Naive-Bayes Classifiers: A Decision-Tree Hybrid\"_. We can find the article by Ron Kohavi [online](https://www.aaai.org/Papers/KDD/1996/KDD96-033.pdf). The data we investigate here consists of small changes to the original dataset, such as removing the `'fnlwgt'` feature and records with missing or ill-formatted entries."
   ]
  },
  {
   "cell_type": "code",
   "execution_count": 1,
   "metadata": {},
   "outputs": [],
   "source": [
    "import warnings\n",
    "warnings.simplefilter('ignore')\n",
    "\n",
    "# Import libraries necessary for this project\n",
    "import numpy as np\n",
    "import pandas as pd\n",
    "from time import time\n",
    "\n",
    "# Import sklearn.preprocessing.StandardScaler\n",
    "from sklearn.preprocessing import MinMaxScaler\n",
    "\n",
    "# Import train_test_split\n",
    "from sklearn.model_selection import train_test_split\n",
    "\n",
    "# Import two metrics from sklearn - fbeta_score and accuracy_score\n",
    "from sklearn.metrics import fbeta_score\n",
    "from sklearn.metrics import accuracy_score\n",
    "\n",
    "# Import the three supervised learning models from sklearn\n",
    "from sklearn.naive_bayes import GaussianNB\n",
    "from sklearn.tree import DecisionTreeClassifier\n",
    "from sklearn.ensemble import RandomForestClassifier\n",
    "\n",
    "# Import 'GridSearchCV', 'make_scorer', and any other necessary libraries\n",
    "from sklearn.model_selection import GridSearchCV\n",
    "from sklearn.metrics import make_scorer\n",
    "\n",
    "# Import functionality for cloning a model\n",
    "from sklearn.base import clone\n",
    "\n",
    "import altair as alt\n",
    "alt.data_transformers.enable('json')\n",
    "\n",
    "from gensim.models import Word2Vec\n",
    "\n",
    "# TSNE\n",
    "import time\n",
    "from sklearn.manifold import TSNE"
   ]
  },
  {
   "cell_type": "code",
   "execution_count": 2,
   "metadata": {},
   "outputs": [
    {
     "data": {
      "text/html": [
       "<div>\n",
       "<style scoped>\n",
       "    .dataframe tbody tr th:only-of-type {\n",
       "        vertical-align: middle;\n",
       "    }\n",
       "\n",
       "    .dataframe tbody tr th {\n",
       "        vertical-align: top;\n",
       "    }\n",
       "\n",
       "    .dataframe thead th {\n",
       "        text-align: right;\n",
       "    }\n",
       "</style>\n",
       "<table border=\"1\" class=\"dataframe\">\n",
       "  <thead>\n",
       "    <tr style=\"text-align: right;\">\n",
       "      <th></th>\n",
       "      <th>age</th>\n",
       "      <th>workclass</th>\n",
       "      <th>education_level</th>\n",
       "      <th>education-num</th>\n",
       "      <th>marital-status</th>\n",
       "      <th>occupation</th>\n",
       "      <th>relationship</th>\n",
       "      <th>race</th>\n",
       "      <th>sex</th>\n",
       "      <th>capital-gain</th>\n",
       "      <th>capital-loss</th>\n",
       "      <th>hours-per-week</th>\n",
       "      <th>native-country</th>\n",
       "      <th>income</th>\n",
       "    </tr>\n",
       "  </thead>\n",
       "  <tbody>\n",
       "    <tr>\n",
       "      <th>0</th>\n",
       "      <td>39</td>\n",
       "      <td>State-gov</td>\n",
       "      <td>Bachelors</td>\n",
       "      <td>13.0</td>\n",
       "      <td>Never-married</td>\n",
       "      <td>Adm-clerical</td>\n",
       "      <td>Not-in-family</td>\n",
       "      <td>White</td>\n",
       "      <td>Male</td>\n",
       "      <td>2174.0</td>\n",
       "      <td>0.0</td>\n",
       "      <td>40.0</td>\n",
       "      <td>United-States</td>\n",
       "      <td>&lt;=50K</td>\n",
       "    </tr>\n",
       "    <tr>\n",
       "      <th>1</th>\n",
       "      <td>50</td>\n",
       "      <td>Self-emp-not-inc</td>\n",
       "      <td>Bachelors</td>\n",
       "      <td>13.0</td>\n",
       "      <td>Married-civ-spouse</td>\n",
       "      <td>Exec-managerial</td>\n",
       "      <td>Husband</td>\n",
       "      <td>White</td>\n",
       "      <td>Male</td>\n",
       "      <td>0.0</td>\n",
       "      <td>0.0</td>\n",
       "      <td>13.0</td>\n",
       "      <td>United-States</td>\n",
       "      <td>&lt;=50K</td>\n",
       "    </tr>\n",
       "    <tr>\n",
       "      <th>2</th>\n",
       "      <td>38</td>\n",
       "      <td>Private</td>\n",
       "      <td>HS-grad</td>\n",
       "      <td>9.0</td>\n",
       "      <td>Divorced</td>\n",
       "      <td>Handlers-cleaners</td>\n",
       "      <td>Not-in-family</td>\n",
       "      <td>White</td>\n",
       "      <td>Male</td>\n",
       "      <td>0.0</td>\n",
       "      <td>0.0</td>\n",
       "      <td>40.0</td>\n",
       "      <td>United-States</td>\n",
       "      <td>&lt;=50K</td>\n",
       "    </tr>\n",
       "    <tr>\n",
       "      <th>3</th>\n",
       "      <td>53</td>\n",
       "      <td>Private</td>\n",
       "      <td>11th</td>\n",
       "      <td>7.0</td>\n",
       "      <td>Married-civ-spouse</td>\n",
       "      <td>Handlers-cleaners</td>\n",
       "      <td>Husband</td>\n",
       "      <td>Black</td>\n",
       "      <td>Male</td>\n",
       "      <td>0.0</td>\n",
       "      <td>0.0</td>\n",
       "      <td>40.0</td>\n",
       "      <td>United-States</td>\n",
       "      <td>&lt;=50K</td>\n",
       "    </tr>\n",
       "    <tr>\n",
       "      <th>4</th>\n",
       "      <td>28</td>\n",
       "      <td>Private</td>\n",
       "      <td>Bachelors</td>\n",
       "      <td>13.0</td>\n",
       "      <td>Married-civ-spouse</td>\n",
       "      <td>Prof-specialty</td>\n",
       "      <td>Wife</td>\n",
       "      <td>Black</td>\n",
       "      <td>Female</td>\n",
       "      <td>0.0</td>\n",
       "      <td>0.0</td>\n",
       "      <td>40.0</td>\n",
       "      <td>Cuba</td>\n",
       "      <td>&lt;=50K</td>\n",
       "    </tr>\n",
       "  </tbody>\n",
       "</table>\n",
       "</div>"
      ],
      "text/plain": [
       "   age          workclass education_level  education-num       marital-status  \\\n",
       "0   39          State-gov       Bachelors           13.0        Never-married   \n",
       "1   50   Self-emp-not-inc       Bachelors           13.0   Married-civ-spouse   \n",
       "2   38            Private         HS-grad            9.0             Divorced   \n",
       "3   53            Private            11th            7.0   Married-civ-spouse   \n",
       "4   28            Private       Bachelors           13.0   Married-civ-spouse   \n",
       "\n",
       "           occupation    relationship    race      sex  capital-gain  \\\n",
       "0        Adm-clerical   Not-in-family   White     Male        2174.0   \n",
       "1     Exec-managerial         Husband   White     Male           0.0   \n",
       "2   Handlers-cleaners   Not-in-family   White     Male           0.0   \n",
       "3   Handlers-cleaners         Husband   Black     Male           0.0   \n",
       "4      Prof-specialty            Wife   Black   Female           0.0   \n",
       "\n",
       "   capital-loss  hours-per-week  native-country income  \n",
       "0           0.0            40.0   United-States  <=50K  \n",
       "1           0.0            13.0   United-States  <=50K  \n",
       "2           0.0            40.0   United-States  <=50K  \n",
       "3           0.0            40.0   United-States  <=50K  \n",
       "4           0.0            40.0            Cuba  <=50K  "
      ]
     },
     "execution_count": 2,
     "metadata": {},
     "output_type": "execute_result"
    }
   ],
   "source": [
    "# Load the Census dataset\n",
    "data = pd.read_csv(\"census.csv\")\n",
    "\n",
    "data.head()"
   ]
  },
  {
   "cell_type": "markdown",
   "metadata": {},
   "source": [
    "**Featureset Exploration**\n",
    "\n",
    "* **age**: Continuous. \n",
    "* **workclass**: Categorical - Private, Self-emp-not-inc, Self-emp-inc, Federal-gov, Local-gov, State-gov, Without-pay, Never-worked. \n",
    "* **education**: Categorical - Bachelors, Some-college, 11th, HS-grad, Prof-school, Assoc-acdm, Assoc-voc, 9th, 7th-8th, 12th, Masters, 1st-4th, 10th, Doctorate, 5th-6th, Preschool. \n",
    "* **education-num**: Continuous. \n",
    "* **marital-status**: Categorical - Married-civ-spouse, Divorced, Never-married, Separated, Widowed, Married-spouse-absent, Married-AF-spouse. \n",
    "* **occupation**: Categorical - Tech-support, Craft-repair, Other-service, Sales, Exec-managerial, Prof-specialty, Handlers-cleaners, Machine-op-inspct, Adm-clerical, Farming-fishing, Transport-moving, Priv-house-serv, Protective-serv, Armed-Forces. \n",
    "* **relationship**: Categorical - Wife, Own-child, Husband, Not-in-family, Other-relative, Unmarried. \n",
    "* **race**: Categorical - Black, White, Asian-Pac-Islander, Amer-Indian-Eskimo, Other. \n",
    "* **sex**: Categorical - Female, Male. \n",
    "* **capital-gain**: Continuous. \n",
    "* **capital-loss**: Continuous. \n",
    "* **hours-per-week**: Continuous. \n",
    "* **native-country**: Categorical - United-States, Cambodia, England, Puerto-Rico, Canada, Germany, Outlying-US(Guam-USVI-etc), India, Japan, Greece, South, China, Cuba, Iran, Honduras, Philippines, Italy, Poland, Jamaica, Vietnam, Mexico, Portugal, Ireland, France, Dominican-Republic, Laos, Ecuador, Taiwan, Haiti, Columbia, Hungary, Guatemala, Nicaragua, Scotland, Thailand, Yugoslavia, El-Salvador, Trinadad&Tobago, Peru, Hong, Holand-Netherlands."
   ]
  },
  {
   "cell_type": "markdown",
   "metadata": {},
   "source": [
    "### Analyze the columns"
   ]
  },
  {
   "cell_type": "markdown",
   "metadata": {},
   "source": [
    "#### Age"
   ]
  },
  {
   "cell_type": "code",
   "execution_count": 3,
   "metadata": {},
   "outputs": [
    {
     "data": {
      "text/html": [
       "\n",
       "<div id=\"altair-viz-77b01dbb09084cf9980d5096c59c18ac\"></div>\n",
       "<script type=\"text/javascript\">\n",
       "  (function(spec, embedOpt){\n",
       "    let outputDiv = document.currentScript.previousElementSibling;\n",
       "    if (outputDiv.id !== \"altair-viz-77b01dbb09084cf9980d5096c59c18ac\") {\n",
       "      outputDiv = document.getElementById(\"altair-viz-77b01dbb09084cf9980d5096c59c18ac\");\n",
       "    }\n",
       "    const paths = {\n",
       "      \"vega\": \"https://cdn.jsdelivr.net/npm//vega@5?noext\",\n",
       "      \"vega-lib\": \"https://cdn.jsdelivr.net/npm//vega-lib?noext\",\n",
       "      \"vega-lite\": \"https://cdn.jsdelivr.net/npm//vega-lite@4.8.1?noext\",\n",
       "      \"vega-embed\": \"https://cdn.jsdelivr.net/npm//vega-embed@6?noext\",\n",
       "    };\n",
       "\n",
       "    function loadScript(lib) {\n",
       "      return new Promise(function(resolve, reject) {\n",
       "        var s = document.createElement('script');\n",
       "        s.src = paths[lib];\n",
       "        s.async = true;\n",
       "        s.onload = () => resolve(paths[lib]);\n",
       "        s.onerror = () => reject(`Error loading script: ${paths[lib]}`);\n",
       "        document.getElementsByTagName(\"head\")[0].appendChild(s);\n",
       "      });\n",
       "    }\n",
       "\n",
       "    function showError(err) {\n",
       "      outputDiv.innerHTML = `<div class=\"error\" style=\"color:red;\">${err}</div>`;\n",
       "      throw err;\n",
       "    }\n",
       "\n",
       "    function displayChart(vegaEmbed) {\n",
       "      vegaEmbed(outputDiv, spec, embedOpt)\n",
       "        .catch(err => showError(`Javascript Error: ${err.message}<br>This usually means there's a typo in your chart specification. See the javascript console for the full traceback.`));\n",
       "    }\n",
       "\n",
       "    if(typeof define === \"function\" && define.amd) {\n",
       "      requirejs.config({paths});\n",
       "      require([\"vega-embed\"], displayChart, err => showError(`Error loading script: ${err.message}`));\n",
       "    } else if (typeof vegaEmbed === \"function\") {\n",
       "      displayChart(vegaEmbed);\n",
       "    } else {\n",
       "      loadScript(\"vega\")\n",
       "        .then(() => loadScript(\"vega-lite\"))\n",
       "        .then(() => loadScript(\"vega-embed\"))\n",
       "        .catch(showError)\n",
       "        .then(() => displayChart(vegaEmbed));\n",
       "    }\n",
       "  })({\"config\": {\"view\": {\"continuousWidth\": 400, \"continuousHeight\": 300}}, \"data\": {\"url\": \"altair-data-4fa1ba4127e7d291730131456502cf1a.json\", \"format\": {\"type\": \"json\"}}, \"mark\": \"bar\", \"encoding\": {\"color\": {\"type\": \"nominal\", \"field\": \"income\"}, \"x\": {\"type\": \"quantitative\", \"bin\": {\"maxbins\": 25}, \"field\": \"age\"}, \"y\": {\"type\": \"quantitative\", \"aggregate\": \"count\"}}, \"$schema\": \"https://vega.github.io/schema/vega-lite/v4.8.1.json\"}, {\"mode\": \"vega-lite\"});\n",
       "</script>"
      ],
      "text/plain": [
       "alt.Chart(...)"
      ]
     },
     "execution_count": 3,
     "metadata": {},
     "output_type": "execute_result"
    }
   ],
   "source": [
    "alt.Chart(data).mark_bar().encode(\n",
    "    alt.X(\"age\", bin=alt.Bin(maxbins=25)),\n",
    "    y='count()',\n",
    "    color='income'\n",
    ")"
   ]
  },
  {
   "cell_type": "markdown",
   "metadata": {},
   "source": [
    "For dashborad - I would like to combine some of the higher ages in one bucket."
   ]
  },
  {
   "cell_type": "code",
   "execution_count": 4,
   "metadata": {},
   "outputs": [],
   "source": [
    "def categorical_age(x):\n",
    "    if (x < 20):\n",
    "        return '< 20'\n",
    "    if (x < 30):\n",
    "        return '20 - 30'\n",
    "    if (x < 40):\n",
    "        return '30 - 40'\n",
    "    if (x < 50):\n",
    "        return '40 - 50'\n",
    "    if (x < 60):\n",
    "        return '50 - 60'\n",
    "    if (x < 70):\n",
    "        return '60 - 70'\n",
    "    if (x >= 70):\n",
    "        return '70+'\n",
    "    \n",
    "data['_age'] = data['age'].apply(categorical_age)"
   ]
  },
  {
   "cell_type": "markdown",
   "metadata": {},
   "source": [
    "#### Capital-Gain"
   ]
  },
  {
   "cell_type": "code",
   "execution_count": 5,
   "metadata": {},
   "outputs": [
    {
     "data": {
      "text/html": [
       "\n",
       "<div id=\"altair-viz-905e2a6836634bbca7d8368796c98bd4\"></div>\n",
       "<script type=\"text/javascript\">\n",
       "  (function(spec, embedOpt){\n",
       "    let outputDiv = document.currentScript.previousElementSibling;\n",
       "    if (outputDiv.id !== \"altair-viz-905e2a6836634bbca7d8368796c98bd4\") {\n",
       "      outputDiv = document.getElementById(\"altair-viz-905e2a6836634bbca7d8368796c98bd4\");\n",
       "    }\n",
       "    const paths = {\n",
       "      \"vega\": \"https://cdn.jsdelivr.net/npm//vega@5?noext\",\n",
       "      \"vega-lib\": \"https://cdn.jsdelivr.net/npm//vega-lib?noext\",\n",
       "      \"vega-lite\": \"https://cdn.jsdelivr.net/npm//vega-lite@4.8.1?noext\",\n",
       "      \"vega-embed\": \"https://cdn.jsdelivr.net/npm//vega-embed@6?noext\",\n",
       "    };\n",
       "\n",
       "    function loadScript(lib) {\n",
       "      return new Promise(function(resolve, reject) {\n",
       "        var s = document.createElement('script');\n",
       "        s.src = paths[lib];\n",
       "        s.async = true;\n",
       "        s.onload = () => resolve(paths[lib]);\n",
       "        s.onerror = () => reject(`Error loading script: ${paths[lib]}`);\n",
       "        document.getElementsByTagName(\"head\")[0].appendChild(s);\n",
       "      });\n",
       "    }\n",
       "\n",
       "    function showError(err) {\n",
       "      outputDiv.innerHTML = `<div class=\"error\" style=\"color:red;\">${err}</div>`;\n",
       "      throw err;\n",
       "    }\n",
       "\n",
       "    function displayChart(vegaEmbed) {\n",
       "      vegaEmbed(outputDiv, spec, embedOpt)\n",
       "        .catch(err => showError(`Javascript Error: ${err.message}<br>This usually means there's a typo in your chart specification. See the javascript console for the full traceback.`));\n",
       "    }\n",
       "\n",
       "    if(typeof define === \"function\" && define.amd) {\n",
       "      requirejs.config({paths});\n",
       "      require([\"vega-embed\"], displayChart, err => showError(`Error loading script: ${err.message}`));\n",
       "    } else if (typeof vegaEmbed === \"function\") {\n",
       "      displayChart(vegaEmbed);\n",
       "    } else {\n",
       "      loadScript(\"vega\")\n",
       "        .then(() => loadScript(\"vega-lite\"))\n",
       "        .then(() => loadScript(\"vega-embed\"))\n",
       "        .catch(showError)\n",
       "        .then(() => displayChart(vegaEmbed));\n",
       "    }\n",
       "  })({\"config\": {\"view\": {\"continuousWidth\": 400, \"continuousHeight\": 300}}, \"data\": {\"url\": \"altair-data-066d91b51988b591986543b37382d603.json\", \"format\": {\"type\": \"json\"}}, \"mark\": \"bar\", \"encoding\": {\"color\": {\"type\": \"nominal\", \"field\": \"income\"}, \"x\": {\"type\": \"quantitative\", \"bin\": true, \"field\": \"capital-gain\"}, \"y\": {\"type\": \"quantitative\", \"aggregate\": \"count\"}}, \"$schema\": \"https://vega.github.io/schema/vega-lite/v4.8.1.json\"}, {\"mode\": \"vega-lite\"});\n",
       "</script>"
      ],
      "text/plain": [
       "alt.Chart(...)"
      ]
     },
     "execution_count": 5,
     "metadata": {},
     "output_type": "execute_result"
    }
   ],
   "source": [
    "alt.Chart(data).mark_bar().encode(\n",
    "    alt.X(\"capital-gain\", bin=True),\n",
    "    y='count()',\n",
    "    color='income'\n",
    ")"
   ]
  },
  {
   "cell_type": "markdown",
   "metadata": {},
   "source": [
    "For dashborad - I would like to have just two buckets for capital-gain - 0 or >0."
   ]
  },
  {
   "cell_type": "code",
   "execution_count": 6,
   "metadata": {},
   "outputs": [],
   "source": [
    "def categorical_gain(x):\n",
    "    if (x > 0):\n",
    "        return '>0'\n",
    "    else:\n",
    "        return '=0'\n",
    "    \n",
    "data['capital_gain'] = data['capital-gain'].apply(categorical_gain)"
   ]
  },
  {
   "cell_type": "markdown",
   "metadata": {},
   "source": [
    "#### Capital-Loss"
   ]
  },
  {
   "cell_type": "code",
   "execution_count": 7,
   "metadata": {},
   "outputs": [
    {
     "data": {
      "text/html": [
       "\n",
       "<div id=\"altair-viz-f60c00deaabd45f3891935e7a6bca9ac\"></div>\n",
       "<script type=\"text/javascript\">\n",
       "  (function(spec, embedOpt){\n",
       "    let outputDiv = document.currentScript.previousElementSibling;\n",
       "    if (outputDiv.id !== \"altair-viz-f60c00deaabd45f3891935e7a6bca9ac\") {\n",
       "      outputDiv = document.getElementById(\"altair-viz-f60c00deaabd45f3891935e7a6bca9ac\");\n",
       "    }\n",
       "    const paths = {\n",
       "      \"vega\": \"https://cdn.jsdelivr.net/npm//vega@5?noext\",\n",
       "      \"vega-lib\": \"https://cdn.jsdelivr.net/npm//vega-lib?noext\",\n",
       "      \"vega-lite\": \"https://cdn.jsdelivr.net/npm//vega-lite@4.8.1?noext\",\n",
       "      \"vega-embed\": \"https://cdn.jsdelivr.net/npm//vega-embed@6?noext\",\n",
       "    };\n",
       "\n",
       "    function loadScript(lib) {\n",
       "      return new Promise(function(resolve, reject) {\n",
       "        var s = document.createElement('script');\n",
       "        s.src = paths[lib];\n",
       "        s.async = true;\n",
       "        s.onload = () => resolve(paths[lib]);\n",
       "        s.onerror = () => reject(`Error loading script: ${paths[lib]}`);\n",
       "        document.getElementsByTagName(\"head\")[0].appendChild(s);\n",
       "      });\n",
       "    }\n",
       "\n",
       "    function showError(err) {\n",
       "      outputDiv.innerHTML = `<div class=\"error\" style=\"color:red;\">${err}</div>`;\n",
       "      throw err;\n",
       "    }\n",
       "\n",
       "    function displayChart(vegaEmbed) {\n",
       "      vegaEmbed(outputDiv, spec, embedOpt)\n",
       "        .catch(err => showError(`Javascript Error: ${err.message}<br>This usually means there's a typo in your chart specification. See the javascript console for the full traceback.`));\n",
       "    }\n",
       "\n",
       "    if(typeof define === \"function\" && define.amd) {\n",
       "      requirejs.config({paths});\n",
       "      require([\"vega-embed\"], displayChart, err => showError(`Error loading script: ${err.message}`));\n",
       "    } else if (typeof vegaEmbed === \"function\") {\n",
       "      displayChart(vegaEmbed);\n",
       "    } else {\n",
       "      loadScript(\"vega\")\n",
       "        .then(() => loadScript(\"vega-lite\"))\n",
       "        .then(() => loadScript(\"vega-embed\"))\n",
       "        .catch(showError)\n",
       "        .then(() => displayChart(vegaEmbed));\n",
       "    }\n",
       "  })({\"config\": {\"view\": {\"continuousWidth\": 400, \"continuousHeight\": 300}}, \"data\": {\"url\": \"altair-data-77db7eedcbd6dd3bed1e5a25f5882b88.json\", \"format\": {\"type\": \"json\"}}, \"mark\": \"bar\", \"encoding\": {\"color\": {\"type\": \"nominal\", \"field\": \"income\"}, \"x\": {\"type\": \"quantitative\", \"bin\": true, \"field\": \"capital-loss\"}, \"y\": {\"type\": \"quantitative\", \"aggregate\": \"count\"}}, \"$schema\": \"https://vega.github.io/schema/vega-lite/v4.8.1.json\"}, {\"mode\": \"vega-lite\"});\n",
       "</script>"
      ],
      "text/plain": [
       "alt.Chart(...)"
      ]
     },
     "execution_count": 7,
     "metadata": {},
     "output_type": "execute_result"
    }
   ],
   "source": [
    "alt.Chart(data).mark_bar().encode(\n",
    "    alt.X(\"capital-loss\", bin=True),\n",
    "    y='count()',\n",
    "    color='income'\n",
    ")"
   ]
  },
  {
   "cell_type": "markdown",
   "metadata": {},
   "source": [
    "Similar to capital-gain, I would like to keep only 2 buckets for capital-loss."
   ]
  },
  {
   "cell_type": "code",
   "execution_count": 8,
   "metadata": {},
   "outputs": [],
   "source": [
    "def categorical_loss(x):\n",
    "    if (x > 0):\n",
    "        return '>0'\n",
    "    else:\n",
    "        return '=0'\n",
    "    \n",
    "data['capital_loss'] = data['capital-loss'].apply(categorical_loss)"
   ]
  },
  {
   "cell_type": "markdown",
   "metadata": {},
   "source": [
    "#### Hours per week"
   ]
  },
  {
   "cell_type": "code",
   "execution_count": 9,
   "metadata": {},
   "outputs": [
    {
     "data": {
      "text/html": [
       "\n",
       "<div id=\"altair-viz-4713c7455d044577b412b8a68ca17b4b\"></div>\n",
       "<script type=\"text/javascript\">\n",
       "  (function(spec, embedOpt){\n",
       "    let outputDiv = document.currentScript.previousElementSibling;\n",
       "    if (outputDiv.id !== \"altair-viz-4713c7455d044577b412b8a68ca17b4b\") {\n",
       "      outputDiv = document.getElementById(\"altair-viz-4713c7455d044577b412b8a68ca17b4b\");\n",
       "    }\n",
       "    const paths = {\n",
       "      \"vega\": \"https://cdn.jsdelivr.net/npm//vega@5?noext\",\n",
       "      \"vega-lib\": \"https://cdn.jsdelivr.net/npm//vega-lib?noext\",\n",
       "      \"vega-lite\": \"https://cdn.jsdelivr.net/npm//vega-lite@4.8.1?noext\",\n",
       "      \"vega-embed\": \"https://cdn.jsdelivr.net/npm//vega-embed@6?noext\",\n",
       "    };\n",
       "\n",
       "    function loadScript(lib) {\n",
       "      return new Promise(function(resolve, reject) {\n",
       "        var s = document.createElement('script');\n",
       "        s.src = paths[lib];\n",
       "        s.async = true;\n",
       "        s.onload = () => resolve(paths[lib]);\n",
       "        s.onerror = () => reject(`Error loading script: ${paths[lib]}`);\n",
       "        document.getElementsByTagName(\"head\")[0].appendChild(s);\n",
       "      });\n",
       "    }\n",
       "\n",
       "    function showError(err) {\n",
       "      outputDiv.innerHTML = `<div class=\"error\" style=\"color:red;\">${err}</div>`;\n",
       "      throw err;\n",
       "    }\n",
       "\n",
       "    function displayChart(vegaEmbed) {\n",
       "      vegaEmbed(outputDiv, spec, embedOpt)\n",
       "        .catch(err => showError(`Javascript Error: ${err.message}<br>This usually means there's a typo in your chart specification. See the javascript console for the full traceback.`));\n",
       "    }\n",
       "\n",
       "    if(typeof define === \"function\" && define.amd) {\n",
       "      requirejs.config({paths});\n",
       "      require([\"vega-embed\"], displayChart, err => showError(`Error loading script: ${err.message}`));\n",
       "    } else if (typeof vegaEmbed === \"function\") {\n",
       "      displayChart(vegaEmbed);\n",
       "    } else {\n",
       "      loadScript(\"vega\")\n",
       "        .then(() => loadScript(\"vega-lite\"))\n",
       "        .then(() => loadScript(\"vega-embed\"))\n",
       "        .catch(showError)\n",
       "        .then(() => displayChart(vegaEmbed));\n",
       "    }\n",
       "  })({\"config\": {\"view\": {\"continuousWidth\": 400, \"continuousHeight\": 300}}, \"data\": {\"url\": \"altair-data-13d8c977223d0490f081e3cfafb30006.json\", \"format\": {\"type\": \"json\"}}, \"mark\": \"bar\", \"encoding\": {\"color\": {\"type\": \"nominal\", \"field\": \"income\"}, \"x\": {\"type\": \"quantitative\", \"bin\": true, \"field\": \"hours-per-week\"}, \"y\": {\"type\": \"quantitative\", \"aggregate\": \"count\"}}, \"$schema\": \"https://vega.github.io/schema/vega-lite/v4.8.1.json\"}, {\"mode\": \"vega-lite\"});\n",
       "</script>"
      ],
      "text/plain": [
       "alt.Chart(...)"
      ]
     },
     "execution_count": 9,
     "metadata": {},
     "output_type": "execute_result"
    }
   ],
   "source": [
    "alt.Chart(data).mark_bar().encode(\n",
    "    alt.X(\"hours-per-week\", bin=True),\n",
    "    y='count()',\n",
    "    color='income'\n",
    ")"
   ]
  },
  {
   "cell_type": "markdown",
   "metadata": {},
   "source": [
    "I would combine the following categories into one:\n",
    "1. 0-10 and 10-20\n",
    "2. 70-80, 80-90, and 90-100"
   ]
  },
  {
   "cell_type": "code",
   "execution_count": 10,
   "metadata": {},
   "outputs": [],
   "source": [
    "def categorical_hours(x):\n",
    "    if (x < 20):\n",
    "        return '< 20'\n",
    "    if (x < 30):\n",
    "        return '20 - 30'\n",
    "    if (x < 40):\n",
    "        return '30 - 40'\n",
    "    if (x < 50):\n",
    "        return '40 - 50'\n",
    "    if (x < 60):\n",
    "        return '50 - 60'\n",
    "    if (x < 70):\n",
    "        return '60 - 70'\n",
    "    if (x >= 70):\n",
    "        return '70+'\n",
    "    \n",
    "data['hours_per_week'] = data['hours-per-week'].apply(categorical_hours)"
   ]
  },
  {
   "cell_type": "markdown",
   "metadata": {},
   "source": [
    "#### Education Number and Education Level"
   ]
  },
  {
   "cell_type": "code",
   "execution_count": 11,
   "metadata": {},
   "outputs": [
    {
     "data": {
      "text/html": [
       "\n",
       "<div id=\"altair-viz-705b90f30f37450db0d09081d028b4c6\"></div>\n",
       "<script type=\"text/javascript\">\n",
       "  (function(spec, embedOpt){\n",
       "    let outputDiv = document.currentScript.previousElementSibling;\n",
       "    if (outputDiv.id !== \"altair-viz-705b90f30f37450db0d09081d028b4c6\") {\n",
       "      outputDiv = document.getElementById(\"altair-viz-705b90f30f37450db0d09081d028b4c6\");\n",
       "    }\n",
       "    const paths = {\n",
       "      \"vega\": \"https://cdn.jsdelivr.net/npm//vega@5?noext\",\n",
       "      \"vega-lib\": \"https://cdn.jsdelivr.net/npm//vega-lib?noext\",\n",
       "      \"vega-lite\": \"https://cdn.jsdelivr.net/npm//vega-lite@4.8.1?noext\",\n",
       "      \"vega-embed\": \"https://cdn.jsdelivr.net/npm//vega-embed@6?noext\",\n",
       "    };\n",
       "\n",
       "    function loadScript(lib) {\n",
       "      return new Promise(function(resolve, reject) {\n",
       "        var s = document.createElement('script');\n",
       "        s.src = paths[lib];\n",
       "        s.async = true;\n",
       "        s.onload = () => resolve(paths[lib]);\n",
       "        s.onerror = () => reject(`Error loading script: ${paths[lib]}`);\n",
       "        document.getElementsByTagName(\"head\")[0].appendChild(s);\n",
       "      });\n",
       "    }\n",
       "\n",
       "    function showError(err) {\n",
       "      outputDiv.innerHTML = `<div class=\"error\" style=\"color:red;\">${err}</div>`;\n",
       "      throw err;\n",
       "    }\n",
       "\n",
       "    function displayChart(vegaEmbed) {\n",
       "      vegaEmbed(outputDiv, spec, embedOpt)\n",
       "        .catch(err => showError(`Javascript Error: ${err.message}<br>This usually means there's a typo in your chart specification. See the javascript console for the full traceback.`));\n",
       "    }\n",
       "\n",
       "    if(typeof define === \"function\" && define.amd) {\n",
       "      requirejs.config({paths});\n",
       "      require([\"vega-embed\"], displayChart, err => showError(`Error loading script: ${err.message}`));\n",
       "    } else if (typeof vegaEmbed === \"function\") {\n",
       "      displayChart(vegaEmbed);\n",
       "    } else {\n",
       "      loadScript(\"vega\")\n",
       "        .then(() => loadScript(\"vega-lite\"))\n",
       "        .then(() => loadScript(\"vega-embed\"))\n",
       "        .catch(showError)\n",
       "        .then(() => displayChart(vegaEmbed));\n",
       "    }\n",
       "  })({\"config\": {\"view\": {\"continuousWidth\": 400, \"continuousHeight\": 300}}, \"data\": {\"url\": \"altair-data-ee03c27fda7cb3b363bfcb6ce9c0a415.json\", \"format\": {\"type\": \"json\"}}, \"mark\": \"bar\", \"encoding\": {\"color\": {\"type\": \"nominal\", \"field\": \"income\"}, \"x\": {\"type\": \"quantitative\", \"bin\": {\"maxbins\": 16}, \"field\": \"education-num\"}, \"y\": {\"type\": \"quantitative\", \"aggregate\": \"count\"}}, \"$schema\": \"https://vega.github.io/schema/vega-lite/v4.8.1.json\"}, {\"mode\": \"vega-lite\"});\n",
       "</script>"
      ],
      "text/plain": [
       "alt.Chart(...)"
      ]
     },
     "execution_count": 11,
     "metadata": {},
     "output_type": "execute_result"
    }
   ],
   "source": [
    "alt.Chart(data).mark_bar().encode(\n",
    "    alt.X(\"education-num\", bin=alt.Bin(maxbins=16)),\n",
    "    y='count()',\n",
    "    color='income'\n",
    ")"
   ]
  },
  {
   "cell_type": "code",
   "execution_count": 12,
   "metadata": {},
   "outputs": [
    {
     "data": {
      "text/html": [
       "\n",
       "<div id=\"altair-viz-e60a457fcf3f45479924a5dcb07b5436\"></div>\n",
       "<script type=\"text/javascript\">\n",
       "  (function(spec, embedOpt){\n",
       "    let outputDiv = document.currentScript.previousElementSibling;\n",
       "    if (outputDiv.id !== \"altair-viz-e60a457fcf3f45479924a5dcb07b5436\") {\n",
       "      outputDiv = document.getElementById(\"altair-viz-e60a457fcf3f45479924a5dcb07b5436\");\n",
       "    }\n",
       "    const paths = {\n",
       "      \"vega\": \"https://cdn.jsdelivr.net/npm//vega@5?noext\",\n",
       "      \"vega-lib\": \"https://cdn.jsdelivr.net/npm//vega-lib?noext\",\n",
       "      \"vega-lite\": \"https://cdn.jsdelivr.net/npm//vega-lite@4.8.1?noext\",\n",
       "      \"vega-embed\": \"https://cdn.jsdelivr.net/npm//vega-embed@6?noext\",\n",
       "    };\n",
       "\n",
       "    function loadScript(lib) {\n",
       "      return new Promise(function(resolve, reject) {\n",
       "        var s = document.createElement('script');\n",
       "        s.src = paths[lib];\n",
       "        s.async = true;\n",
       "        s.onload = () => resolve(paths[lib]);\n",
       "        s.onerror = () => reject(`Error loading script: ${paths[lib]}`);\n",
       "        document.getElementsByTagName(\"head\")[0].appendChild(s);\n",
       "      });\n",
       "    }\n",
       "\n",
       "    function showError(err) {\n",
       "      outputDiv.innerHTML = `<div class=\"error\" style=\"color:red;\">${err}</div>`;\n",
       "      throw err;\n",
       "    }\n",
       "\n",
       "    function displayChart(vegaEmbed) {\n",
       "      vegaEmbed(outputDiv, spec, embedOpt)\n",
       "        .catch(err => showError(`Javascript Error: ${err.message}<br>This usually means there's a typo in your chart specification. See the javascript console for the full traceback.`));\n",
       "    }\n",
       "\n",
       "    if(typeof define === \"function\" && define.amd) {\n",
       "      requirejs.config({paths});\n",
       "      require([\"vega-embed\"], displayChart, err => showError(`Error loading script: ${err.message}`));\n",
       "    } else if (typeof vegaEmbed === \"function\") {\n",
       "      displayChart(vegaEmbed);\n",
       "    } else {\n",
       "      loadScript(\"vega\")\n",
       "        .then(() => loadScript(\"vega-lite\"))\n",
       "        .then(() => loadScript(\"vega-embed\"))\n",
       "        .catch(showError)\n",
       "        .then(() => displayChart(vegaEmbed));\n",
       "    }\n",
       "  })({\"config\": {\"view\": {\"continuousWidth\": 400, \"continuousHeight\": 300}}, \"data\": {\"url\": \"altair-data-ee03c27fda7cb3b363bfcb6ce9c0a415.json\", \"format\": {\"type\": \"json\"}}, \"mark\": \"bar\", \"encoding\": {\"color\": {\"type\": \"nominal\", \"field\": \"education_level\"}, \"x\": {\"type\": \"quantitative\", \"bin\": {\"maxbins\": 16}, \"field\": \"education-num\"}, \"y\": {\"type\": \"quantitative\", \"aggregate\": \"count\"}}, \"$schema\": \"https://vega.github.io/schema/vega-lite/v4.8.1.json\"}, {\"mode\": \"vega-lite\"});\n",
       "</script>"
      ],
      "text/plain": [
       "alt.Chart(...)"
      ]
     },
     "execution_count": 12,
     "metadata": {},
     "output_type": "execute_result"
    }
   ],
   "source": [
    "alt.Chart(data).mark_bar().encode(\n",
    "    alt.X(\"education-num\", bin=alt.Bin(maxbins=16)),\n",
    "    y='count()',\n",
    "    color='education_level:N'\n",
    ")"
   ]
  },
  {
   "cell_type": "markdown",
   "metadata": {},
   "source": [
    "There is high-corelation between `education-num` and `education_level`. So I will be using only education level in the dashboard. Further, I'll combine:\n",
    "1. 5th-6th and 7th-8th into one category\n",
    "2. 9th and 10th into one\n",
    "3. 11th and 12th in one"
   ]
  },
  {
   "cell_type": "code",
   "execution_count": 13,
   "metadata": {},
   "outputs": [],
   "source": [
    "def categorical_education(x):\n",
    "    x = x.strip()\n",
    "    to_return = x\n",
    "    if x == '5th-6th' or x == '7th-8th':\n",
    "        to_return = '5th-8th'\n",
    "    if x == '9th' or x == '10th':\n",
    "        to_return = '9th-10th'\n",
    "    if x == '11th' or x == '12th':\n",
    "        to_return = '11th-12th'\n",
    "        \n",
    "    return to_return\n",
    "    \n",
    "data['_education_level'] = data['education_level'].apply(categorical_education)"
   ]
  },
  {
   "cell_type": "markdown",
   "metadata": {},
   "source": [
    "#### Workclass"
   ]
  },
  {
   "cell_type": "code",
   "execution_count": 14,
   "metadata": {},
   "outputs": [
    {
     "data": {
      "text/html": [
       "\n",
       "<div id=\"altair-viz-209da442953b4faf84bcc5375f29449d\"></div>\n",
       "<script type=\"text/javascript\">\n",
       "  (function(spec, embedOpt){\n",
       "    let outputDiv = document.currentScript.previousElementSibling;\n",
       "    if (outputDiv.id !== \"altair-viz-209da442953b4faf84bcc5375f29449d\") {\n",
       "      outputDiv = document.getElementById(\"altair-viz-209da442953b4faf84bcc5375f29449d\");\n",
       "    }\n",
       "    const paths = {\n",
       "      \"vega\": \"https://cdn.jsdelivr.net/npm//vega@5?noext\",\n",
       "      \"vega-lib\": \"https://cdn.jsdelivr.net/npm//vega-lib?noext\",\n",
       "      \"vega-lite\": \"https://cdn.jsdelivr.net/npm//vega-lite@4.8.1?noext\",\n",
       "      \"vega-embed\": \"https://cdn.jsdelivr.net/npm//vega-embed@6?noext\",\n",
       "    };\n",
       "\n",
       "    function loadScript(lib) {\n",
       "      return new Promise(function(resolve, reject) {\n",
       "        var s = document.createElement('script');\n",
       "        s.src = paths[lib];\n",
       "        s.async = true;\n",
       "        s.onload = () => resolve(paths[lib]);\n",
       "        s.onerror = () => reject(`Error loading script: ${paths[lib]}`);\n",
       "        document.getElementsByTagName(\"head\")[0].appendChild(s);\n",
       "      });\n",
       "    }\n",
       "\n",
       "    function showError(err) {\n",
       "      outputDiv.innerHTML = `<div class=\"error\" style=\"color:red;\">${err}</div>`;\n",
       "      throw err;\n",
       "    }\n",
       "\n",
       "    function displayChart(vegaEmbed) {\n",
       "      vegaEmbed(outputDiv, spec, embedOpt)\n",
       "        .catch(err => showError(`Javascript Error: ${err.message}<br>This usually means there's a typo in your chart specification. See the javascript console for the full traceback.`));\n",
       "    }\n",
       "\n",
       "    if(typeof define === \"function\" && define.amd) {\n",
       "      requirejs.config({paths});\n",
       "      require([\"vega-embed\"], displayChart, err => showError(`Error loading script: ${err.message}`));\n",
       "    } else if (typeof vegaEmbed === \"function\") {\n",
       "      displayChart(vegaEmbed);\n",
       "    } else {\n",
       "      loadScript(\"vega\")\n",
       "        .then(() => loadScript(\"vega-lite\"))\n",
       "        .then(() => loadScript(\"vega-embed\"))\n",
       "        .catch(showError)\n",
       "        .then(() => displayChart(vegaEmbed));\n",
       "    }\n",
       "  })({\"config\": {\"view\": {\"continuousWidth\": 400, \"continuousHeight\": 300}}, \"data\": {\"url\": \"altair-data-eb19cd70992611dfe7bc3735ed7f5393.json\", \"format\": {\"type\": \"json\"}}, \"mark\": \"bar\", \"encoding\": {\"color\": {\"type\": \"nominal\", \"field\": \"income\"}, \"x\": {\"type\": \"quantitative\", \"aggregate\": \"count\", \"axis\": {\"title\": \"\"}}, \"y\": {\"type\": \"nominal\", \"axis\": {\"labelFontSize\": 12, \"ticks\": false, \"title\": \"\"}, \"field\": \"workclass\", \"sort\": \"-x\"}}, \"$schema\": \"https://vega.github.io/schema/vega-lite/v4.8.1.json\"}, {\"mode\": \"vega-lite\"});\n",
       "</script>"
      ],
      "text/plain": [
       "alt.Chart(...)"
      ]
     },
     "execution_count": 14,
     "metadata": {},
     "output_type": "execute_result"
    }
   ],
   "source": [
    "alt.Chart(data).mark_bar().encode(\n",
    "                            x= alt.X('count()', axis=alt.Axis(title='')),\n",
    "                            y=  alt.Y('workclass:N', sort='-x', \n",
    "                                      axis=alt.Axis(title='', \n",
    "                                                    labelFontSize=12,\n",
    "                                                    ticks=False)),\n",
    "                            color='income'\n",
    "                        )"
   ]
  },
  {
   "cell_type": "markdown",
   "metadata": {},
   "source": [
    "#### Occupation"
   ]
  },
  {
   "cell_type": "code",
   "execution_count": 15,
   "metadata": {},
   "outputs": [
    {
     "data": {
      "text/html": [
       "\n",
       "<div id=\"altair-viz-043ba04918394ee3baa7bd650cef852e\"></div>\n",
       "<script type=\"text/javascript\">\n",
       "  (function(spec, embedOpt){\n",
       "    let outputDiv = document.currentScript.previousElementSibling;\n",
       "    if (outputDiv.id !== \"altair-viz-043ba04918394ee3baa7bd650cef852e\") {\n",
       "      outputDiv = document.getElementById(\"altair-viz-043ba04918394ee3baa7bd650cef852e\");\n",
       "    }\n",
       "    const paths = {\n",
       "      \"vega\": \"https://cdn.jsdelivr.net/npm//vega@5?noext\",\n",
       "      \"vega-lib\": \"https://cdn.jsdelivr.net/npm//vega-lib?noext\",\n",
       "      \"vega-lite\": \"https://cdn.jsdelivr.net/npm//vega-lite@4.8.1?noext\",\n",
       "      \"vega-embed\": \"https://cdn.jsdelivr.net/npm//vega-embed@6?noext\",\n",
       "    };\n",
       "\n",
       "    function loadScript(lib) {\n",
       "      return new Promise(function(resolve, reject) {\n",
       "        var s = document.createElement('script');\n",
       "        s.src = paths[lib];\n",
       "        s.async = true;\n",
       "        s.onload = () => resolve(paths[lib]);\n",
       "        s.onerror = () => reject(`Error loading script: ${paths[lib]}`);\n",
       "        document.getElementsByTagName(\"head\")[0].appendChild(s);\n",
       "      });\n",
       "    }\n",
       "\n",
       "    function showError(err) {\n",
       "      outputDiv.innerHTML = `<div class=\"error\" style=\"color:red;\">${err}</div>`;\n",
       "      throw err;\n",
       "    }\n",
       "\n",
       "    function displayChart(vegaEmbed) {\n",
       "      vegaEmbed(outputDiv, spec, embedOpt)\n",
       "        .catch(err => showError(`Javascript Error: ${err.message}<br>This usually means there's a typo in your chart specification. See the javascript console for the full traceback.`));\n",
       "    }\n",
       "\n",
       "    if(typeof define === \"function\" && define.amd) {\n",
       "      requirejs.config({paths});\n",
       "      require([\"vega-embed\"], displayChart, err => showError(`Error loading script: ${err.message}`));\n",
       "    } else if (typeof vegaEmbed === \"function\") {\n",
       "      displayChart(vegaEmbed);\n",
       "    } else {\n",
       "      loadScript(\"vega\")\n",
       "        .then(() => loadScript(\"vega-lite\"))\n",
       "        .then(() => loadScript(\"vega-embed\"))\n",
       "        .catch(showError)\n",
       "        .then(() => displayChart(vegaEmbed));\n",
       "    }\n",
       "  })({\"config\": {\"view\": {\"continuousWidth\": 400, \"continuousHeight\": 300}}, \"data\": {\"url\": \"altair-data-eb19cd70992611dfe7bc3735ed7f5393.json\", \"format\": {\"type\": \"json\"}}, \"mark\": \"bar\", \"encoding\": {\"color\": {\"type\": \"nominal\", \"field\": \"income\"}, \"x\": {\"type\": \"quantitative\", \"aggregate\": \"count\", \"axis\": {\"title\": \"\"}}, \"y\": {\"type\": \"nominal\", \"axis\": {\"labelFontSize\": 12, \"ticks\": false, \"title\": \"\"}, \"field\": \"occupation\", \"sort\": \"-x\"}}, \"$schema\": \"https://vega.github.io/schema/vega-lite/v4.8.1.json\"}, {\"mode\": \"vega-lite\"});\n",
       "</script>"
      ],
      "text/plain": [
       "alt.Chart(...)"
      ]
     },
     "execution_count": 15,
     "metadata": {},
     "output_type": "execute_result"
    }
   ],
   "source": [
    "alt.Chart(data).mark_bar().encode(\n",
    "                            x= alt.X('count()', axis=alt.Axis(title='')),\n",
    "                            y=  alt.Y('occupation:N', sort='-x', \n",
    "                                      axis=alt.Axis(title='', \n",
    "                                                    labelFontSize=12,\n",
    "                                                    ticks=False)),\n",
    "                            color='income'\n",
    "                        )"
   ]
  },
  {
   "cell_type": "markdown",
   "metadata": {},
   "source": [
    "#### Marital Status"
   ]
  },
  {
   "cell_type": "code",
   "execution_count": 16,
   "metadata": {},
   "outputs": [
    {
     "data": {
      "text/html": [
       "\n",
       "<div id=\"altair-viz-2ba33673893045ba930771b6ee0c57c9\"></div>\n",
       "<script type=\"text/javascript\">\n",
       "  (function(spec, embedOpt){\n",
       "    let outputDiv = document.currentScript.previousElementSibling;\n",
       "    if (outputDiv.id !== \"altair-viz-2ba33673893045ba930771b6ee0c57c9\") {\n",
       "      outputDiv = document.getElementById(\"altair-viz-2ba33673893045ba930771b6ee0c57c9\");\n",
       "    }\n",
       "    const paths = {\n",
       "      \"vega\": \"https://cdn.jsdelivr.net/npm//vega@5?noext\",\n",
       "      \"vega-lib\": \"https://cdn.jsdelivr.net/npm//vega-lib?noext\",\n",
       "      \"vega-lite\": \"https://cdn.jsdelivr.net/npm//vega-lite@4.8.1?noext\",\n",
       "      \"vega-embed\": \"https://cdn.jsdelivr.net/npm//vega-embed@6?noext\",\n",
       "    };\n",
       "\n",
       "    function loadScript(lib) {\n",
       "      return new Promise(function(resolve, reject) {\n",
       "        var s = document.createElement('script');\n",
       "        s.src = paths[lib];\n",
       "        s.async = true;\n",
       "        s.onload = () => resolve(paths[lib]);\n",
       "        s.onerror = () => reject(`Error loading script: ${paths[lib]}`);\n",
       "        document.getElementsByTagName(\"head\")[0].appendChild(s);\n",
       "      });\n",
       "    }\n",
       "\n",
       "    function showError(err) {\n",
       "      outputDiv.innerHTML = `<div class=\"error\" style=\"color:red;\">${err}</div>`;\n",
       "      throw err;\n",
       "    }\n",
       "\n",
       "    function displayChart(vegaEmbed) {\n",
       "      vegaEmbed(outputDiv, spec, embedOpt)\n",
       "        .catch(err => showError(`Javascript Error: ${err.message}<br>This usually means there's a typo in your chart specification. See the javascript console for the full traceback.`));\n",
       "    }\n",
       "\n",
       "    if(typeof define === \"function\" && define.amd) {\n",
       "      requirejs.config({paths});\n",
       "      require([\"vega-embed\"], displayChart, err => showError(`Error loading script: ${err.message}`));\n",
       "    } else if (typeof vegaEmbed === \"function\") {\n",
       "      displayChart(vegaEmbed);\n",
       "    } else {\n",
       "      loadScript(\"vega\")\n",
       "        .then(() => loadScript(\"vega-lite\"))\n",
       "        .then(() => loadScript(\"vega-embed\"))\n",
       "        .catch(showError)\n",
       "        .then(() => displayChart(vegaEmbed));\n",
       "    }\n",
       "  })({\"config\": {\"view\": {\"continuousWidth\": 400, \"continuousHeight\": 300}}, \"data\": {\"url\": \"altair-data-eb19cd70992611dfe7bc3735ed7f5393.json\", \"format\": {\"type\": \"json\"}}, \"mark\": \"bar\", \"encoding\": {\"color\": {\"type\": \"nominal\", \"field\": \"income\"}, \"x\": {\"type\": \"quantitative\", \"aggregate\": \"count\", \"axis\": {\"title\": \"\"}}, \"y\": {\"type\": \"nominal\", \"axis\": {\"labelFontSize\": 12, \"ticks\": false, \"title\": \"\"}, \"field\": \"marital-status\", \"sort\": \"-x\"}}, \"$schema\": \"https://vega.github.io/schema/vega-lite/v4.8.1.json\"}, {\"mode\": \"vega-lite\"});\n",
       "</script>"
      ],
      "text/plain": [
       "alt.Chart(...)"
      ]
     },
     "execution_count": 16,
     "metadata": {},
     "output_type": "execute_result"
    }
   ],
   "source": [
    "alt.Chart(data).mark_bar().encode(\n",
    "                            x= alt.X('count()', axis=alt.Axis(title='')),\n",
    "                            y=  alt.Y('marital-status:N', sort='-x', \n",
    "                                      axis=alt.Axis(title='', \n",
    "                                                    labelFontSize=12,\n",
    "                                                    ticks=False)),\n",
    "                            color='income'\n",
    "                        )"
   ]
  },
  {
   "cell_type": "markdown",
   "metadata": {},
   "source": [
    "#### Relationship"
   ]
  },
  {
   "cell_type": "code",
   "execution_count": 17,
   "metadata": {},
   "outputs": [
    {
     "data": {
      "text/html": [
       "\n",
       "<div id=\"altair-viz-f64f26ea140d4386a3f46ee7aafe290b\"></div>\n",
       "<script type=\"text/javascript\">\n",
       "  (function(spec, embedOpt){\n",
       "    let outputDiv = document.currentScript.previousElementSibling;\n",
       "    if (outputDiv.id !== \"altair-viz-f64f26ea140d4386a3f46ee7aafe290b\") {\n",
       "      outputDiv = document.getElementById(\"altair-viz-f64f26ea140d4386a3f46ee7aafe290b\");\n",
       "    }\n",
       "    const paths = {\n",
       "      \"vega\": \"https://cdn.jsdelivr.net/npm//vega@5?noext\",\n",
       "      \"vega-lib\": \"https://cdn.jsdelivr.net/npm//vega-lib?noext\",\n",
       "      \"vega-lite\": \"https://cdn.jsdelivr.net/npm//vega-lite@4.8.1?noext\",\n",
       "      \"vega-embed\": \"https://cdn.jsdelivr.net/npm//vega-embed@6?noext\",\n",
       "    };\n",
       "\n",
       "    function loadScript(lib) {\n",
       "      return new Promise(function(resolve, reject) {\n",
       "        var s = document.createElement('script');\n",
       "        s.src = paths[lib];\n",
       "        s.async = true;\n",
       "        s.onload = () => resolve(paths[lib]);\n",
       "        s.onerror = () => reject(`Error loading script: ${paths[lib]}`);\n",
       "        document.getElementsByTagName(\"head\")[0].appendChild(s);\n",
       "      });\n",
       "    }\n",
       "\n",
       "    function showError(err) {\n",
       "      outputDiv.innerHTML = `<div class=\"error\" style=\"color:red;\">${err}</div>`;\n",
       "      throw err;\n",
       "    }\n",
       "\n",
       "    function displayChart(vegaEmbed) {\n",
       "      vegaEmbed(outputDiv, spec, embedOpt)\n",
       "        .catch(err => showError(`Javascript Error: ${err.message}<br>This usually means there's a typo in your chart specification. See the javascript console for the full traceback.`));\n",
       "    }\n",
       "\n",
       "    if(typeof define === \"function\" && define.amd) {\n",
       "      requirejs.config({paths});\n",
       "      require([\"vega-embed\"], displayChart, err => showError(`Error loading script: ${err.message}`));\n",
       "    } else if (typeof vegaEmbed === \"function\") {\n",
       "      displayChart(vegaEmbed);\n",
       "    } else {\n",
       "      loadScript(\"vega\")\n",
       "        .then(() => loadScript(\"vega-lite\"))\n",
       "        .then(() => loadScript(\"vega-embed\"))\n",
       "        .catch(showError)\n",
       "        .then(() => displayChart(vegaEmbed));\n",
       "    }\n",
       "  })({\"config\": {\"view\": {\"continuousWidth\": 400, \"continuousHeight\": 300}}, \"data\": {\"url\": \"altair-data-eb19cd70992611dfe7bc3735ed7f5393.json\", \"format\": {\"type\": \"json\"}}, \"mark\": \"bar\", \"encoding\": {\"color\": {\"type\": \"nominal\", \"field\": \"income\"}, \"x\": {\"type\": \"quantitative\", \"aggregate\": \"count\", \"axis\": {\"title\": \"\"}}, \"y\": {\"type\": \"nominal\", \"axis\": {\"labelFontSize\": 12, \"ticks\": false, \"title\": \"\"}, \"field\": \"relationship\", \"sort\": \"-x\"}}, \"$schema\": \"https://vega.github.io/schema/vega-lite/v4.8.1.json\"}, {\"mode\": \"vega-lite\"});\n",
       "</script>"
      ],
      "text/plain": [
       "alt.Chart(...)"
      ]
     },
     "execution_count": 17,
     "metadata": {},
     "output_type": "execute_result"
    }
   ],
   "source": [
    "alt.Chart(data).mark_bar().encode(\n",
    "                            x= alt.X('count()', axis=alt.Axis(title='')),\n",
    "                            y=  alt.Y('relationship:N', sort='-x', \n",
    "                                      axis=alt.Axis(title='', \n",
    "                                                    labelFontSize=12,\n",
    "                                                    ticks=False)),\n",
    "                            color='income'\n",
    "                        )"
   ]
  },
  {
   "cell_type": "markdown",
   "metadata": {},
   "source": [
    "#### Gender"
   ]
  },
  {
   "cell_type": "code",
   "execution_count": 18,
   "metadata": {},
   "outputs": [
    {
     "data": {
      "text/html": [
       "\n",
       "<div id=\"altair-viz-f50fb8abd8bc4a85aea6318c65452545\"></div>\n",
       "<script type=\"text/javascript\">\n",
       "  (function(spec, embedOpt){\n",
       "    let outputDiv = document.currentScript.previousElementSibling;\n",
       "    if (outputDiv.id !== \"altair-viz-f50fb8abd8bc4a85aea6318c65452545\") {\n",
       "      outputDiv = document.getElementById(\"altair-viz-f50fb8abd8bc4a85aea6318c65452545\");\n",
       "    }\n",
       "    const paths = {\n",
       "      \"vega\": \"https://cdn.jsdelivr.net/npm//vega@5?noext\",\n",
       "      \"vega-lib\": \"https://cdn.jsdelivr.net/npm//vega-lib?noext\",\n",
       "      \"vega-lite\": \"https://cdn.jsdelivr.net/npm//vega-lite@4.8.1?noext\",\n",
       "      \"vega-embed\": \"https://cdn.jsdelivr.net/npm//vega-embed@6?noext\",\n",
       "    };\n",
       "\n",
       "    function loadScript(lib) {\n",
       "      return new Promise(function(resolve, reject) {\n",
       "        var s = document.createElement('script');\n",
       "        s.src = paths[lib];\n",
       "        s.async = true;\n",
       "        s.onload = () => resolve(paths[lib]);\n",
       "        s.onerror = () => reject(`Error loading script: ${paths[lib]}`);\n",
       "        document.getElementsByTagName(\"head\")[0].appendChild(s);\n",
       "      });\n",
       "    }\n",
       "\n",
       "    function showError(err) {\n",
       "      outputDiv.innerHTML = `<div class=\"error\" style=\"color:red;\">${err}</div>`;\n",
       "      throw err;\n",
       "    }\n",
       "\n",
       "    function displayChart(vegaEmbed) {\n",
       "      vegaEmbed(outputDiv, spec, embedOpt)\n",
       "        .catch(err => showError(`Javascript Error: ${err.message}<br>This usually means there's a typo in your chart specification. See the javascript console for the full traceback.`));\n",
       "    }\n",
       "\n",
       "    if(typeof define === \"function\" && define.amd) {\n",
       "      requirejs.config({paths});\n",
       "      require([\"vega-embed\"], displayChart, err => showError(`Error loading script: ${err.message}`));\n",
       "    } else if (typeof vegaEmbed === \"function\") {\n",
       "      displayChart(vegaEmbed);\n",
       "    } else {\n",
       "      loadScript(\"vega\")\n",
       "        .then(() => loadScript(\"vega-lite\"))\n",
       "        .then(() => loadScript(\"vega-embed\"))\n",
       "        .catch(showError)\n",
       "        .then(() => displayChart(vegaEmbed));\n",
       "    }\n",
       "  })({\"config\": {\"view\": {\"continuousWidth\": 400, \"continuousHeight\": 300}}, \"data\": {\"url\": \"altair-data-eb19cd70992611dfe7bc3735ed7f5393.json\", \"format\": {\"type\": \"json\"}}, \"mark\": \"bar\", \"encoding\": {\"color\": {\"type\": \"nominal\", \"field\": \"income\"}, \"x\": {\"type\": \"quantitative\", \"aggregate\": \"count\", \"axis\": {\"title\": \"\"}}, \"y\": {\"type\": \"nominal\", \"axis\": {\"labelFontSize\": 12, \"ticks\": false, \"title\": \"\"}, \"field\": \"sex\", \"sort\": \"-x\"}}, \"$schema\": \"https://vega.github.io/schema/vega-lite/v4.8.1.json\"}, {\"mode\": \"vega-lite\"});\n",
       "</script>"
      ],
      "text/plain": [
       "alt.Chart(...)"
      ]
     },
     "execution_count": 18,
     "metadata": {},
     "output_type": "execute_result"
    }
   ],
   "source": [
    "alt.Chart(data).mark_bar().encode(\n",
    "                            x= alt.X('count()', axis=alt.Axis(title='')),\n",
    "                            y=  alt.Y('sex:N', sort='-x', \n",
    "                                      axis=alt.Axis(title='', \n",
    "                                                    labelFontSize=12,\n",
    "                                                    ticks=False)),\n",
    "                            color='income'\n",
    "                        )"
   ]
  },
  {
   "cell_type": "markdown",
   "metadata": {},
   "source": [
    "#### Race"
   ]
  },
  {
   "cell_type": "code",
   "execution_count": 19,
   "metadata": {},
   "outputs": [
    {
     "data": {
      "text/html": [
       "\n",
       "<div id=\"altair-viz-bdde40123cd24de092e25dd48125383f\"></div>\n",
       "<script type=\"text/javascript\">\n",
       "  (function(spec, embedOpt){\n",
       "    let outputDiv = document.currentScript.previousElementSibling;\n",
       "    if (outputDiv.id !== \"altair-viz-bdde40123cd24de092e25dd48125383f\") {\n",
       "      outputDiv = document.getElementById(\"altair-viz-bdde40123cd24de092e25dd48125383f\");\n",
       "    }\n",
       "    const paths = {\n",
       "      \"vega\": \"https://cdn.jsdelivr.net/npm//vega@5?noext\",\n",
       "      \"vega-lib\": \"https://cdn.jsdelivr.net/npm//vega-lib?noext\",\n",
       "      \"vega-lite\": \"https://cdn.jsdelivr.net/npm//vega-lite@4.8.1?noext\",\n",
       "      \"vega-embed\": \"https://cdn.jsdelivr.net/npm//vega-embed@6?noext\",\n",
       "    };\n",
       "\n",
       "    function loadScript(lib) {\n",
       "      return new Promise(function(resolve, reject) {\n",
       "        var s = document.createElement('script');\n",
       "        s.src = paths[lib];\n",
       "        s.async = true;\n",
       "        s.onload = () => resolve(paths[lib]);\n",
       "        s.onerror = () => reject(`Error loading script: ${paths[lib]}`);\n",
       "        document.getElementsByTagName(\"head\")[0].appendChild(s);\n",
       "      });\n",
       "    }\n",
       "\n",
       "    function showError(err) {\n",
       "      outputDiv.innerHTML = `<div class=\"error\" style=\"color:red;\">${err}</div>`;\n",
       "      throw err;\n",
       "    }\n",
       "\n",
       "    function displayChart(vegaEmbed) {\n",
       "      vegaEmbed(outputDiv, spec, embedOpt)\n",
       "        .catch(err => showError(`Javascript Error: ${err.message}<br>This usually means there's a typo in your chart specification. See the javascript console for the full traceback.`));\n",
       "    }\n",
       "\n",
       "    if(typeof define === \"function\" && define.amd) {\n",
       "      requirejs.config({paths});\n",
       "      require([\"vega-embed\"], displayChart, err => showError(`Error loading script: ${err.message}`));\n",
       "    } else if (typeof vegaEmbed === \"function\") {\n",
       "      displayChart(vegaEmbed);\n",
       "    } else {\n",
       "      loadScript(\"vega\")\n",
       "        .then(() => loadScript(\"vega-lite\"))\n",
       "        .then(() => loadScript(\"vega-embed\"))\n",
       "        .catch(showError)\n",
       "        .then(() => displayChart(vegaEmbed));\n",
       "    }\n",
       "  })({\"config\": {\"view\": {\"continuousWidth\": 400, \"continuousHeight\": 300}}, \"data\": {\"url\": \"altair-data-eb19cd70992611dfe7bc3735ed7f5393.json\", \"format\": {\"type\": \"json\"}}, \"mark\": \"bar\", \"encoding\": {\"color\": {\"type\": \"nominal\", \"field\": \"income\"}, \"x\": {\"type\": \"quantitative\", \"aggregate\": \"count\", \"axis\": {\"title\": \"\"}}, \"y\": {\"type\": \"nominal\", \"axis\": {\"labelFontSize\": 12, \"ticks\": false, \"title\": \"\"}, \"field\": \"race\", \"sort\": \"-x\"}}, \"$schema\": \"https://vega.github.io/schema/vega-lite/v4.8.1.json\"}, {\"mode\": \"vega-lite\"});\n",
       "</script>"
      ],
      "text/plain": [
       "alt.Chart(...)"
      ]
     },
     "execution_count": 19,
     "metadata": {},
     "output_type": "execute_result"
    }
   ],
   "source": [
    "alt.Chart(data).mark_bar().encode(\n",
    "                            x= alt.X('count()', axis=alt.Axis(title='')),\n",
    "                            y=  alt.Y('race:N', sort='-x', \n",
    "                                      axis=alt.Axis(title='', \n",
    "                                                    labelFontSize=12,\n",
    "                                                    ticks=False)),\n",
    "                            color='income'\n",
    "                        )"
   ]
  },
  {
   "cell_type": "markdown",
   "metadata": {},
   "source": [
    "#### Native Country"
   ]
  },
  {
   "cell_type": "code",
   "execution_count": 20,
   "metadata": {},
   "outputs": [
    {
     "data": {
      "text/html": [
       "\n",
       "<div id=\"altair-viz-e94e8723092b4272aeb7a041821a5213\"></div>\n",
       "<script type=\"text/javascript\">\n",
       "  (function(spec, embedOpt){\n",
       "    let outputDiv = document.currentScript.previousElementSibling;\n",
       "    if (outputDiv.id !== \"altair-viz-e94e8723092b4272aeb7a041821a5213\") {\n",
       "      outputDiv = document.getElementById(\"altair-viz-e94e8723092b4272aeb7a041821a5213\");\n",
       "    }\n",
       "    const paths = {\n",
       "      \"vega\": \"https://cdn.jsdelivr.net/npm//vega@5?noext\",\n",
       "      \"vega-lib\": \"https://cdn.jsdelivr.net/npm//vega-lib?noext\",\n",
       "      \"vega-lite\": \"https://cdn.jsdelivr.net/npm//vega-lite@4.8.1?noext\",\n",
       "      \"vega-embed\": \"https://cdn.jsdelivr.net/npm//vega-embed@6?noext\",\n",
       "    };\n",
       "\n",
       "    function loadScript(lib) {\n",
       "      return new Promise(function(resolve, reject) {\n",
       "        var s = document.createElement('script');\n",
       "        s.src = paths[lib];\n",
       "        s.async = true;\n",
       "        s.onload = () => resolve(paths[lib]);\n",
       "        s.onerror = () => reject(`Error loading script: ${paths[lib]}`);\n",
       "        document.getElementsByTagName(\"head\")[0].appendChild(s);\n",
       "      });\n",
       "    }\n",
       "\n",
       "    function showError(err) {\n",
       "      outputDiv.innerHTML = `<div class=\"error\" style=\"color:red;\">${err}</div>`;\n",
       "      throw err;\n",
       "    }\n",
       "\n",
       "    function displayChart(vegaEmbed) {\n",
       "      vegaEmbed(outputDiv, spec, embedOpt)\n",
       "        .catch(err => showError(`Javascript Error: ${err.message}<br>This usually means there's a typo in your chart specification. See the javascript console for the full traceback.`));\n",
       "    }\n",
       "\n",
       "    if(typeof define === \"function\" && define.amd) {\n",
       "      requirejs.config({paths});\n",
       "      require([\"vega-embed\"], displayChart, err => showError(`Error loading script: ${err.message}`));\n",
       "    } else if (typeof vegaEmbed === \"function\") {\n",
       "      displayChart(vegaEmbed);\n",
       "    } else {\n",
       "      loadScript(\"vega\")\n",
       "        .then(() => loadScript(\"vega-lite\"))\n",
       "        .then(() => loadScript(\"vega-embed\"))\n",
       "        .catch(showError)\n",
       "        .then(() => displayChart(vegaEmbed));\n",
       "    }\n",
       "  })({\"config\": {\"view\": {\"continuousWidth\": 400, \"continuousHeight\": 300}}, \"data\": {\"url\": \"altair-data-eb19cd70992611dfe7bc3735ed7f5393.json\", \"format\": {\"type\": \"json\"}}, \"mark\": \"bar\", \"encoding\": {\"color\": {\"type\": \"nominal\", \"field\": \"income\"}, \"x\": {\"type\": \"quantitative\", \"aggregate\": \"count\", \"axis\": {\"title\": \"\"}}, \"y\": {\"type\": \"nominal\", \"axis\": {\"labelFontSize\": 12, \"ticks\": false, \"title\": \"\"}, \"field\": \"native-country\", \"sort\": \"-x\"}}, \"$schema\": \"https://vega.github.io/schema/vega-lite/v4.8.1.json\"}, {\"mode\": \"vega-lite\"});\n",
       "</script>"
      ],
      "text/plain": [
       "alt.Chart(...)"
      ]
     },
     "execution_count": 20,
     "metadata": {},
     "output_type": "execute_result"
    }
   ],
   "source": [
    "alt.Chart(data).mark_bar().encode(\n",
    "                            x= alt.X('count()', axis=alt.Axis(title='')),\n",
    "                            y=  alt.Y('native-country:N', sort='-x', \n",
    "                                      axis=alt.Axis(title='', \n",
    "                                                    labelFontSize=12,\n",
    "                                                    ticks=False)),\n",
    "                            color = 'income'\n",
    "                        )"
   ]
  },
  {
   "cell_type": "markdown",
   "metadata": {},
   "source": [
    "For the purposes of dashboard - I'll leave the top 9 countries and combine the rest as 'Others'"
   ]
  },
  {
   "cell_type": "code",
   "execution_count": 21,
   "metadata": {},
   "outputs": [],
   "source": [
    "top_countries = ['United-States', 'Mexico', 'Philippines', 'Germany', 'Puerto-Rico', 'Canada', 'India', \n",
    "                 'El-Salvador', 'Cuba']\n",
    "\n",
    "def categorical_country(x):\n",
    "    x = x.strip()\n",
    "    if x in top_countries:\n",
    "        return x\n",
    "    else:\n",
    "        return 'Others'\n",
    "    \n",
    "data['native_country'] = data['native-country'].apply(categorical_country)"
   ]
  },
  {
   "cell_type": "markdown",
   "metadata": {},
   "source": [
    "----\n",
    "## Preparing the Data\n",
    "Before data can be used as input for machine learning algorithms, it often must be cleaned, formatted, and restructured. Fortunately, for this dataset, there are no invalid or missing entries we must deal with, however, there are some qualities about certain features that must be adjusted."
   ]
  },
  {
   "cell_type": "markdown",
   "metadata": {},
   "source": [
    "### Normalizing Numerical Features\n",
    "In addition to performing transformations on features that are highly skewed, it is often good practice to perform some type of scaling on numerical features. Applying a scaling to the data does not change the shape of each feature's distribution (such as `'capital-gain'` or `'capital-loss'` above); however, normalization ensures that each feature is treated equally when applying supervised learners. Note that once scaling is applied, observing the data in its raw form will no longer have the same original meaning."
   ]
  },
  {
   "cell_type": "code",
   "execution_count": 22,
   "metadata": {},
   "outputs": [],
   "source": [
    "# Initialize a scaler, then apply it to the features\n",
    "scaler = MinMaxScaler() # default=(0, 1)\n",
    "numerical = ['age', 'education-num', 'capital-gain', 'capital-loss', 'hours-per-week']\n",
    "numerical_normalized = ['age_normalized', 'education-num_normalized', 'capital-gain_normalized',\n",
    "                        'capital-loss_normalized', 'hours-per-week_normalized']\n",
    "\n",
    "normalized_data = data\n",
    "normalized_data[numerical_normalized] = data[numerical]\n",
    "normalized_data[numerical_normalized] = scaler.fit_transform(normalized_data[numerical_normalized])"
   ]
  },
  {
   "cell_type": "code",
   "execution_count": 23,
   "metadata": {},
   "outputs": [],
   "source": [
    "categorical = ['workclass', 'education_level', 'marital-status', 'occupation', 'relationship',\n",
    "               'race', 'sex', 'native-country']\n",
    "\n",
    "def getSentence(x):\n",
    "    arr = []\n",
    "    for col in categorical:\n",
    "        arr.append(x[col].strip())\n",
    "    return arr\n",
    "\n",
    "normalized_data['combined-categories'] = normalized_data.apply(getSentence, axis=1)"
   ]
  },
  {
   "cell_type": "code",
   "execution_count": 24,
   "metadata": {},
   "outputs": [],
   "source": [
    "# window size of 8 includes all words in context\n",
    "# ns_exponent of 0.0 samples all words equally\n",
    "model = Word2Vec(list(normalized_data['combined-categories']), min_count=1, size=32, window=8, ns_exponent=0.0,\n",
    "                 workers=8, iter=100)"
   ]
  },
  {
   "cell_type": "code",
   "execution_count": 25,
   "metadata": {},
   "outputs": [
    {
     "data": {
      "text/plain": [
       "array([ 1.4610063 , -2.6515975 , -1.9365681 , -0.941228  , -0.70973283,\n",
       "       -1.3962952 , -0.86609143,  0.54141504, -1.8923876 , -1.5956795 ,\n",
       "       -1.9748574 ,  0.21719351, -1.9046342 , -0.93459994, -0.040706  ,\n",
       "        1.8496356 , -0.04559053,  0.43774414, -0.7138819 ,  0.5931256 ,\n",
       "       -0.9088906 ,  0.11516427,  1.671683  ,  2.1076114 ,  0.82342803,\n",
       "       -2.8486516 ,  3.059075  , -0.28296688,  2.365132  ,  1.5559391 ,\n",
       "        3.4933639 ,  1.1827399 ], dtype=float32)"
      ]
     },
     "execution_count": 25,
     "metadata": {},
     "output_type": "execute_result"
    }
   ],
   "source": [
    "# test vector for one of the categorical values\n",
    "model['Private']"
   ]
  },
  {
   "cell_type": "code",
   "execution_count": 26,
   "metadata": {},
   "outputs": [],
   "source": [
    "def getCategoryArray(x):\n",
    "    arr = []\n",
    "    for col in categorical:\n",
    "        arr.append(model[x[col].strip()])\n",
    "    return np.mean(np.array(arr), axis=0)"
   ]
  },
  {
   "cell_type": "code",
   "execution_count": 27,
   "metadata": {},
   "outputs": [],
   "source": [
    "normalized_data['categories_arr'] = normalized_data.apply(getCategoryArray, axis=1)"
   ]
  },
  {
   "cell_type": "code",
   "execution_count": 28,
   "metadata": {},
   "outputs": [],
   "source": [
    "normalizer = np.amax(list(normalized_data['categories_arr'])) - np.amin(list(normalized_data['categories_arr']))"
   ]
  },
  {
   "cell_type": "code",
   "execution_count": 29,
   "metadata": {},
   "outputs": [],
   "source": [
    "def getCombinedArray(x):\n",
    "    arr = x['categories_arr']\n",
    "    for col in numerical_normalized:\n",
    "        arr = np.append(arr, x[col]*normalizer)\n",
    "    return arr"
   ]
  },
  {
   "cell_type": "code",
   "execution_count": 30,
   "metadata": {},
   "outputs": [],
   "source": [
    "normalized_data['combined_arr'] = normalized_data.apply(getCombinedArray, axis=1)"
   ]
  },
  {
   "cell_type": "code",
   "execution_count": 31,
   "metadata": {},
   "outputs": [],
   "source": [
    "def performTSNE(df, col, out_x='x', out_y='y', verbose=1, perplexity=40, n_iter=500):\n",
    "    '''\n",
    "    perform tSNE (t-distributed Stochastic Neighbor Embedding).\n",
    "    A tool to visualize high-dimensional data. It converts similarities between data points to joint probabilities and tries to minimize the Kullback-Leibler divergence between the joint probabilities of the low-dimensional embedding and the high-dimensional data. \n",
    "    input:\n",
    "        df - data frame\n",
    "        col - name of col with embedding data\n",
    "        out_x - name of column to store x-coordinates\n",
    "        out_y - name of column to store y-cordinates\n",
    "        verbose - \n",
    "        perplexity - related to the number of nearest neighbors - usually a value between 5 and 50\n",
    "        n_iter - number of iterations\n",
    "    output:\n",
    "        input df with 2 additional columns for x and y co-ordinates\n",
    "    '''\n",
    "    X = np.array(list(df[col]))\n",
    "    time_start = time.time()\n",
    "    tsne = TSNE(n_components=2, verbose=verbose, random_state=32, perplexity=perplexity, n_iter=n_iter)\n",
    "    tsne_results = tsne.fit_transform(X)\n",
    "    if verbose > 0:\n",
    "        print('t-SNE done! Time elapsed: {} seconds'.format(time.time()-time_start))\n",
    "    df[out_x] = tsne_results[:,0]\n",
    "    df[out_y] = tsne_results[:,1]\n",
    "    \n",
    "    return df"
   ]
  },
  {
   "cell_type": "code",
   "execution_count": 32,
   "metadata": {},
   "outputs": [
    {
     "name": "stdout",
     "output_type": "stream",
     "text": [
      "[t-SNE] Computing 121 nearest neighbors...\n",
      "[t-SNE] Indexed 45222 samples in 0.471s...\n",
      "[t-SNE] Computed neighbors for 45222 samples in 81.830s...\n",
      "[t-SNE] Computed conditional probabilities for sample 1000 / 45222\n",
      "[t-SNE] Computed conditional probabilities for sample 2000 / 45222\n",
      "[t-SNE] Computed conditional probabilities for sample 3000 / 45222\n",
      "[t-SNE] Computed conditional probabilities for sample 4000 / 45222\n",
      "[t-SNE] Computed conditional probabilities for sample 5000 / 45222\n",
      "[t-SNE] Computed conditional probabilities for sample 6000 / 45222\n",
      "[t-SNE] Computed conditional probabilities for sample 7000 / 45222\n",
      "[t-SNE] Computed conditional probabilities for sample 8000 / 45222\n",
      "[t-SNE] Computed conditional probabilities for sample 9000 / 45222\n",
      "[t-SNE] Computed conditional probabilities for sample 10000 / 45222\n",
      "[t-SNE] Computed conditional probabilities for sample 11000 / 45222\n",
      "[t-SNE] Computed conditional probabilities for sample 12000 / 45222\n",
      "[t-SNE] Computed conditional probabilities for sample 13000 / 45222\n",
      "[t-SNE] Computed conditional probabilities for sample 14000 / 45222\n",
      "[t-SNE] Computed conditional probabilities for sample 15000 / 45222\n",
      "[t-SNE] Computed conditional probabilities for sample 16000 / 45222\n",
      "[t-SNE] Computed conditional probabilities for sample 17000 / 45222\n",
      "[t-SNE] Computed conditional probabilities for sample 18000 / 45222\n",
      "[t-SNE] Computed conditional probabilities for sample 19000 / 45222\n",
      "[t-SNE] Computed conditional probabilities for sample 20000 / 45222\n",
      "[t-SNE] Computed conditional probabilities for sample 21000 / 45222\n",
      "[t-SNE] Computed conditional probabilities for sample 22000 / 45222\n",
      "[t-SNE] Computed conditional probabilities for sample 23000 / 45222\n",
      "[t-SNE] Computed conditional probabilities for sample 24000 / 45222\n",
      "[t-SNE] Computed conditional probabilities for sample 25000 / 45222\n",
      "[t-SNE] Computed conditional probabilities for sample 26000 / 45222\n",
      "[t-SNE] Computed conditional probabilities for sample 27000 / 45222\n",
      "[t-SNE] Computed conditional probabilities for sample 28000 / 45222\n",
      "[t-SNE] Computed conditional probabilities for sample 29000 / 45222\n",
      "[t-SNE] Computed conditional probabilities for sample 30000 / 45222\n",
      "[t-SNE] Computed conditional probabilities for sample 31000 / 45222\n",
      "[t-SNE] Computed conditional probabilities for sample 32000 / 45222\n",
      "[t-SNE] Computed conditional probabilities for sample 33000 / 45222\n",
      "[t-SNE] Computed conditional probabilities for sample 34000 / 45222\n",
      "[t-SNE] Computed conditional probabilities for sample 35000 / 45222\n",
      "[t-SNE] Computed conditional probabilities for sample 36000 / 45222\n",
      "[t-SNE] Computed conditional probabilities for sample 37000 / 45222\n",
      "[t-SNE] Computed conditional probabilities for sample 38000 / 45222\n",
      "[t-SNE] Computed conditional probabilities for sample 39000 / 45222\n",
      "[t-SNE] Computed conditional probabilities for sample 40000 / 45222\n",
      "[t-SNE] Computed conditional probabilities for sample 41000 / 45222\n",
      "[t-SNE] Computed conditional probabilities for sample 42000 / 45222\n",
      "[t-SNE] Computed conditional probabilities for sample 43000 / 45222\n",
      "[t-SNE] Computed conditional probabilities for sample 44000 / 45222\n",
      "[t-SNE] Computed conditional probabilities for sample 45000 / 45222\n",
      "[t-SNE] Computed conditional probabilities for sample 45222 / 45222\n",
      "[t-SNE] Mean sigma: 0.270969\n",
      "[t-SNE] KL divergence after 250 iterations with early exaggeration: 87.042923\n",
      "[t-SNE] KL divergence after 500 iterations: 2.626927\n",
      "t-SNE done! Time elapsed: 156.2325360774994 seconds\n"
     ]
    }
   ],
   "source": [
    "normalized_data = performTSNE(normalized_data, 'combined_arr')"
   ]
  },
  {
   "cell_type": "markdown",
   "metadata": {},
   "source": [
    "Now that we have the x and y co-ordinates, we can get rid of the extra columns."
   ]
  },
  {
   "cell_type": "code",
   "execution_count": 33,
   "metadata": {},
   "outputs": [],
   "source": [
    "to_drop = ['age_normalized', 'education-num_normalized', 'capital-gain_normalized', 'capital-loss_normalized',\n",
    "           'hours-per-week_normalized', 'categories_arr', 'combined-categories', 'combined_arr']\n",
    "\n",
    "normalized_data.drop(columns=to_drop, inplace=True)"
   ]
  },
  {
   "cell_type": "markdown",
   "metadata": {},
   "source": [
    "### Creating Dashborad"
   ]
  },
  {
   "cell_type": "code",
   "execution_count": 34,
   "metadata": {},
   "outputs": [],
   "source": [
    "def get_bar_chart(data, col, color_col, title, sel=None, height=None):\n",
    "    chart = alt.Chart(data).mark_bar().encode(\n",
    "                                x= alt.X('count()', axis=alt.Axis(title='')),\n",
    "                                y=  alt.Y(col +':N', sort='-x', \n",
    "                                          axis=alt.Axis(title='', \n",
    "                                                        labelFontSize=11,\n",
    "                                                        ticks=False)),\n",
    "                                color=alt.condition(sel, alt.Color(color_col + ':N'), alt.value('lightgray'))\n",
    "                            )\n",
    "    \n",
    "    if height is None:\n",
    "        chart = chart.properties(\n",
    "            width=200,\n",
    "            title=title\n",
    "        )\n",
    "    else:\n",
    "        chart = chart.properties(\n",
    "            width=200,\n",
    "            height=height,\n",
    "            title=title\n",
    "        )\n",
    "        \n",
    "    if sel is not None:\n",
    "        chart = chart.add_selection(\n",
    "                        sel\n",
    "                )\n",
    "        \n",
    "    return chart"
   ]
  },
  {
   "cell_type": "code",
   "execution_count": 35,
   "metadata": {},
   "outputs": [
    {
     "data": {
      "text/plain": [
       "Index(['age', 'workclass', 'education_level', 'education-num',\n",
       "       'marital-status', 'occupation', 'relationship', 'race', 'sex',\n",
       "       'capital-gain', 'capital-loss', 'hours-per-week', 'native-country',\n",
       "       'income', '_age', 'capital_gain', 'capital_loss', 'hours_per_week',\n",
       "       '_education_level', 'native_country', 'x', 'y'],\n",
       "      dtype='object')"
      ]
     },
     "execution_count": 35,
     "metadata": {},
     "output_type": "execute_result"
    }
   ],
   "source": [
    "normalized_data.columns"
   ]
  },
  {
   "cell_type": "code",
   "execution_count": 36,
   "metadata": {},
   "outputs": [],
   "source": [
    "sex_sel = alt.selection_multi(fields=['sex'])\n",
    "sex_chart = get_bar_chart(normalized_data, 'sex', 'income', 'Gender', sex_sel, 30)\n",
    "\n",
    "race_sel = alt.selection_multi(fields=['race'])\n",
    "race_chart = get_bar_chart(normalized_data, 'race', 'income', 'Race', race_sel, 75)\n",
    "\n",
    "capital_gain_sel = alt.selection_multi(fields=['capital_gain'])\n",
    "capital_gain_chart = get_bar_chart(normalized_data, 'capital_gain', 'income', 'Capital Gain', capital_gain_sel, 30)\n",
    "\n",
    "capital_loss_sel = alt.selection_multi(fields=['capital_loss'])\n",
    "capital_loss_chart = get_bar_chart(normalized_data, 'capital_loss', 'income', 'Capital Loss', capital_loss_sel, 30)\n",
    "\n",
    "age_sel = alt.selection_multi(fields=['_age'])\n",
    "age_chart = get_bar_chart(normalized_data, '_age', 'income', 'Age', age_sel, 100)\n",
    "\n",
    "education_level_sel = alt.selection_multi(fields=['_education_level'])\n",
    "education_chart = get_bar_chart(normalized_data, '_education_level', 'income', 'Education', education_level_sel, 200)\n",
    "\n",
    "occupation_sel = alt.selection_multi(fields=['occupation'])\n",
    "occupation_chart = get_bar_chart(normalized_data, 'occupation', 'income', 'Occupation_sel', occupation_sel, 200)\n",
    "\n",
    "workclass_sel = alt.selection_multi(fields=['workclass'])\n",
    "workclass_chart = get_bar_chart(normalized_data, 'workclass', 'income', 'Workclass', workclass_sel, 120)\n",
    "\n",
    "hours_per_week_sel = alt.selection_multi(fields=['hours_per_week'])\n",
    "hours_chart = get_bar_chart(normalized_data, 'hours_per_week', 'income', 'Hours/week', hours_per_week_sel, 100)\n",
    "\n",
    "marital_status_sel = alt.selection_multi(fields=['marital-status'])\n",
    "marital_chart = get_bar_chart(normalized_data, 'marital-status', 'income', 'Marital Status', marital_status_sel)\n",
    "\n",
    "relationship_sel = alt.selection_multi(fields=['relationship'])\n",
    "relationship_chart = get_bar_chart(normalized_data, 'relationship', 'income', 'Relationship', relationship_sel)\n",
    "\n",
    "native_country_sel = alt.selection_multi(fields=['native_country'])\n",
    "country_chart = get_bar_chart(normalized_data, 'native_country', 'income', 'Native Country', native_country_sel)\n",
    "\n",
    "income_chart = alt.Chart(normalized_data).mark_bar().encode(\n",
    "                                x= alt.X('count()', axis=alt.Axis(title='')),\n",
    "                                y=  alt.Y('income:N', sort='-x', \n",
    "                                          axis=alt.Axis(title='', \n",
    "                                                        labelFontSize=11,\n",
    "                                                        ticks=False)),\n",
    "                                color='income:N'\n",
    "                            ).properties(\n",
    "                                width=500\n",
    "                            )\n",
    "text = income_chart.mark_text(\n",
    "                align='left',\n",
    "                baseline='middle',\n",
    "                dx=3  # Nudges text to right so it doesn't appear on top of the bar\n",
    "            ).encode(\n",
    "                text=alt.Text('count()', format=',d')\n",
    "            )\n",
    "\n",
    "scatter = alt.Chart(normalized_data).mark_circle().encode(\n",
    "                        x=alt.X('x', axis=alt.Axis(title='')),\n",
    "                        y=alt.Y('y', axis=alt.Axis(title='')),\n",
    "                        color = 'income:N',\n",
    "                        tooltip=['age', 'workclass', 'education_level', 'education-num',\n",
    "                                 'marital-status', 'occupation', 'relationship', 'race', 'sex',\n",
    "                                 'capital-gain', 'capital-loss', 'hours-per-week', 'native-country']\n",
    "                    ).properties(\n",
    "                        width=500,\n",
    "                        height=500\n",
    "                    ).add_selection(alt.selection_single())\n",
    "                    # selection_single work arounf for vega-lite bug - to show tooltp\n",
    "\n",
    "scatter_and_income =  (scatter & (income_chart + text)).transform_filter(\n",
    "                        sex_sel\n",
    "                    ).transform_filter(\n",
    "                        race_sel\n",
    "                    ).transform_filter(\n",
    "                        capital_gain_sel\n",
    "                    ).transform_filter(\n",
    "                        capital_loss_sel\n",
    "                    ).transform_filter(\n",
    "                        age_sel\n",
    "                    ).transform_filter(\n",
    "                        education_level_sel\n",
    "                    ).transform_filter(\n",
    "                        occupation_sel\n",
    "                    ).transform_filter(\n",
    "                        workclass_sel\n",
    "                    ).transform_filter(\n",
    "                        hours_per_week_sel\n",
    "                    ).transform_filter(\n",
    "                        marital_status_sel\n",
    "                    ).transform_filter(\n",
    "                        relationship_sel\n",
    "                    ).transform_filter(\n",
    "                        native_country_sel\n",
    "                    )\n",
    "\n",
    "dashboard = (scatter_and_income\n",
    "             | (sex_chart & race_chart & capital_gain_chart & capital_loss_chart & age_chart & hours_chart)\n",
    "             | (education_chart & occupation_chart & workclass_chart)\n",
    "             | (marital_chart & relationship_chart & country_chart)\n",
    "                            ).configure_legend(orient='top'\n",
    "                            ).configure_title(fontSize=12)"
   ]
  },
  {
   "cell_type": "code",
   "execution_count": 37,
   "metadata": {},
   "outputs": [
    {
     "data": {
      "text/html": [
       "\n",
       "<div id=\"altair-viz-4412895faef44f74b6495deec3d762ce\"></div>\n",
       "<script type=\"text/javascript\">\n",
       "  (function(spec, embedOpt){\n",
       "    let outputDiv = document.currentScript.previousElementSibling;\n",
       "    if (outputDiv.id !== \"altair-viz-4412895faef44f74b6495deec3d762ce\") {\n",
       "      outputDiv = document.getElementById(\"altair-viz-4412895faef44f74b6495deec3d762ce\");\n",
       "    }\n",
       "    const paths = {\n",
       "      \"vega\": \"https://cdn.jsdelivr.net/npm//vega@5?noext\",\n",
       "      \"vega-lib\": \"https://cdn.jsdelivr.net/npm//vega-lib?noext\",\n",
       "      \"vega-lite\": \"https://cdn.jsdelivr.net/npm//vega-lite@4.8.1?noext\",\n",
       "      \"vega-embed\": \"https://cdn.jsdelivr.net/npm//vega-embed@6?noext\",\n",
       "    };\n",
       "\n",
       "    function loadScript(lib) {\n",
       "      return new Promise(function(resolve, reject) {\n",
       "        var s = document.createElement('script');\n",
       "        s.src = paths[lib];\n",
       "        s.async = true;\n",
       "        s.onload = () => resolve(paths[lib]);\n",
       "        s.onerror = () => reject(`Error loading script: ${paths[lib]}`);\n",
       "        document.getElementsByTagName(\"head\")[0].appendChild(s);\n",
       "      });\n",
       "    }\n",
       "\n",
       "    function showError(err) {\n",
       "      outputDiv.innerHTML = `<div class=\"error\" style=\"color:red;\">${err}</div>`;\n",
       "      throw err;\n",
       "    }\n",
       "\n",
       "    function displayChart(vegaEmbed) {\n",
       "      vegaEmbed(outputDiv, spec, embedOpt)\n",
       "        .catch(err => showError(`Javascript Error: ${err.message}<br>This usually means there's a typo in your chart specification. See the javascript console for the full traceback.`));\n",
       "    }\n",
       "\n",
       "    if(typeof define === \"function\" && define.amd) {\n",
       "      requirejs.config({paths});\n",
       "      require([\"vega-embed\"], displayChart, err => showError(`Error loading script: ${err.message}`));\n",
       "    } else if (typeof vegaEmbed === \"function\") {\n",
       "      displayChart(vegaEmbed);\n",
       "    } else {\n",
       "      loadScript(\"vega\")\n",
       "        .then(() => loadScript(\"vega-lite\"))\n",
       "        .then(() => loadScript(\"vega-embed\"))\n",
       "        .catch(showError)\n",
       "        .then(() => displayChart(vegaEmbed));\n",
       "    }\n",
       "  })({\"config\": {\"view\": {\"continuousWidth\": 400, \"continuousHeight\": 300}, \"legend\": {\"orient\": \"top\"}, \"title\": {\"fontSize\": 12}}, \"hconcat\": [{\"vconcat\": [{\"mark\": \"circle\", \"encoding\": {\"color\": {\"type\": \"nominal\", \"field\": \"income\"}, \"tooltip\": [{\"type\": \"quantitative\", \"field\": \"age\"}, {\"type\": \"nominal\", \"field\": \"workclass\"}, {\"type\": \"nominal\", \"field\": \"education_level\"}, {\"type\": \"quantitative\", \"field\": \"education-num\"}, {\"type\": \"nominal\", \"field\": \"marital-status\"}, {\"type\": \"nominal\", \"field\": \"occupation\"}, {\"type\": \"nominal\", \"field\": \"relationship\"}, {\"type\": \"nominal\", \"field\": \"race\"}, {\"type\": \"nominal\", \"field\": \"sex\"}, {\"type\": \"quantitative\", \"field\": \"capital-gain\"}, {\"type\": \"quantitative\", \"field\": \"capital-loss\"}, {\"type\": \"quantitative\", \"field\": \"hours-per-week\"}, {\"type\": \"nominal\", \"field\": \"native-country\"}], \"x\": {\"type\": \"quantitative\", \"axis\": {\"title\": \"\"}, \"field\": \"x\"}, \"y\": {\"type\": \"quantitative\", \"axis\": {\"title\": \"\"}, \"field\": \"y\"}}, \"height\": 500, \"selection\": {\"selector013\": {\"type\": \"single\"}}, \"width\": 500}, {\"layer\": [{\"mark\": \"bar\", \"encoding\": {\"color\": {\"type\": \"nominal\", \"field\": \"income\"}, \"x\": {\"type\": \"quantitative\", \"aggregate\": \"count\", \"axis\": {\"title\": \"\"}}, \"y\": {\"type\": \"nominal\", \"axis\": {\"labelFontSize\": 11, \"ticks\": false, \"title\": \"\"}, \"field\": \"income\", \"sort\": \"-x\"}}, \"width\": 500}, {\"mark\": {\"type\": \"text\", \"align\": \"left\", \"baseline\": \"middle\", \"dx\": 3}, \"encoding\": {\"color\": {\"type\": \"nominal\", \"field\": \"income\"}, \"text\": {\"type\": \"quantitative\", \"aggregate\": \"count\", \"format\": \",d\"}, \"x\": {\"type\": \"quantitative\", \"aggregate\": \"count\", \"axis\": {\"title\": \"\"}}, \"y\": {\"type\": \"nominal\", \"axis\": {\"labelFontSize\": 11, \"ticks\": false, \"title\": \"\"}, \"field\": \"income\", \"sort\": \"-x\"}}, \"width\": 500}]}], \"transform\": [{\"filter\": {\"selection\": \"selector001\"}}, {\"filter\": {\"selection\": \"selector002\"}}, {\"filter\": {\"selection\": \"selector003\"}}, {\"filter\": {\"selection\": \"selector004\"}}, {\"filter\": {\"selection\": \"selector005\"}}, {\"filter\": {\"selection\": \"selector006\"}}, {\"filter\": {\"selection\": \"selector007\"}}, {\"filter\": {\"selection\": \"selector008\"}}, {\"filter\": {\"selection\": \"selector009\"}}, {\"filter\": {\"selection\": \"selector010\"}}, {\"filter\": {\"selection\": \"selector011\"}}, {\"filter\": {\"selection\": \"selector012\"}}]}, {\"vconcat\": [{\"mark\": \"bar\", \"encoding\": {\"color\": {\"condition\": {\"type\": \"nominal\", \"field\": \"income\", \"selection\": \"selector001\"}, \"value\": \"lightgray\"}, \"x\": {\"type\": \"quantitative\", \"aggregate\": \"count\", \"axis\": {\"title\": \"\"}}, \"y\": {\"type\": \"nominal\", \"axis\": {\"labelFontSize\": 11, \"ticks\": false, \"title\": \"\"}, \"field\": \"sex\", \"sort\": \"-x\"}}, \"height\": 30, \"selection\": {\"selector001\": {\"type\": \"multi\", \"fields\": [\"sex\"]}}, \"title\": \"Gender\", \"width\": 200}, {\"mark\": \"bar\", \"encoding\": {\"color\": {\"condition\": {\"type\": \"nominal\", \"field\": \"income\", \"selection\": \"selector002\"}, \"value\": \"lightgray\"}, \"x\": {\"type\": \"quantitative\", \"aggregate\": \"count\", \"axis\": {\"title\": \"\"}}, \"y\": {\"type\": \"nominal\", \"axis\": {\"labelFontSize\": 11, \"ticks\": false, \"title\": \"\"}, \"field\": \"race\", \"sort\": \"-x\"}}, \"height\": 75, \"selection\": {\"selector002\": {\"type\": \"multi\", \"fields\": [\"race\"]}}, \"title\": \"Race\", \"width\": 200}, {\"mark\": \"bar\", \"encoding\": {\"color\": {\"condition\": {\"type\": \"nominal\", \"field\": \"income\", \"selection\": \"selector003\"}, \"value\": \"lightgray\"}, \"x\": {\"type\": \"quantitative\", \"aggregate\": \"count\", \"axis\": {\"title\": \"\"}}, \"y\": {\"type\": \"nominal\", \"axis\": {\"labelFontSize\": 11, \"ticks\": false, \"title\": \"\"}, \"field\": \"capital_gain\", \"sort\": \"-x\"}}, \"height\": 30, \"selection\": {\"selector003\": {\"type\": \"multi\", \"fields\": [\"capital_gain\"]}}, \"title\": \"Capital Gain\", \"width\": 200}, {\"mark\": \"bar\", \"encoding\": {\"color\": {\"condition\": {\"type\": \"nominal\", \"field\": \"income\", \"selection\": \"selector004\"}, \"value\": \"lightgray\"}, \"x\": {\"type\": \"quantitative\", \"aggregate\": \"count\", \"axis\": {\"title\": \"\"}}, \"y\": {\"type\": \"nominal\", \"axis\": {\"labelFontSize\": 11, \"ticks\": false, \"title\": \"\"}, \"field\": \"capital_loss\", \"sort\": \"-x\"}}, \"height\": 30, \"selection\": {\"selector004\": {\"type\": \"multi\", \"fields\": [\"capital_loss\"]}}, \"title\": \"Capital Loss\", \"width\": 200}, {\"mark\": \"bar\", \"encoding\": {\"color\": {\"condition\": {\"type\": \"nominal\", \"field\": \"income\", \"selection\": \"selector005\"}, \"value\": \"lightgray\"}, \"x\": {\"type\": \"quantitative\", \"aggregate\": \"count\", \"axis\": {\"title\": \"\"}}, \"y\": {\"type\": \"nominal\", \"axis\": {\"labelFontSize\": 11, \"ticks\": false, \"title\": \"\"}, \"field\": \"_age\", \"sort\": \"-x\"}}, \"height\": 100, \"selection\": {\"selector005\": {\"type\": \"multi\", \"fields\": [\"_age\"]}}, \"title\": \"Age\", \"width\": 200}, {\"mark\": \"bar\", \"encoding\": {\"color\": {\"condition\": {\"type\": \"nominal\", \"field\": \"income\", \"selection\": \"selector009\"}, \"value\": \"lightgray\"}, \"x\": {\"type\": \"quantitative\", \"aggregate\": \"count\", \"axis\": {\"title\": \"\"}}, \"y\": {\"type\": \"nominal\", \"axis\": {\"labelFontSize\": 11, \"ticks\": false, \"title\": \"\"}, \"field\": \"hours_per_week\", \"sort\": \"-x\"}}, \"height\": 100, \"selection\": {\"selector009\": {\"type\": \"multi\", \"fields\": [\"hours_per_week\"]}}, \"title\": \"Hours/week\", \"width\": 200}]}, {\"vconcat\": [{\"mark\": \"bar\", \"encoding\": {\"color\": {\"condition\": {\"type\": \"nominal\", \"field\": \"income\", \"selection\": \"selector006\"}, \"value\": \"lightgray\"}, \"x\": {\"type\": \"quantitative\", \"aggregate\": \"count\", \"axis\": {\"title\": \"\"}}, \"y\": {\"type\": \"nominal\", \"axis\": {\"labelFontSize\": 11, \"ticks\": false, \"title\": \"\"}, \"field\": \"_education_level\", \"sort\": \"-x\"}}, \"height\": 200, \"selection\": {\"selector006\": {\"type\": \"multi\", \"fields\": [\"_education_level\"]}}, \"title\": \"Education\", \"width\": 200}, {\"mark\": \"bar\", \"encoding\": {\"color\": {\"condition\": {\"type\": \"nominal\", \"field\": \"income\", \"selection\": \"selector007\"}, \"value\": \"lightgray\"}, \"x\": {\"type\": \"quantitative\", \"aggregate\": \"count\", \"axis\": {\"title\": \"\"}}, \"y\": {\"type\": \"nominal\", \"axis\": {\"labelFontSize\": 11, \"ticks\": false, \"title\": \"\"}, \"field\": \"occupation\", \"sort\": \"-x\"}}, \"height\": 200, \"selection\": {\"selector007\": {\"type\": \"multi\", \"fields\": [\"occupation\"]}}, \"title\": \"Occupation_sel\", \"width\": 200}, {\"mark\": \"bar\", \"encoding\": {\"color\": {\"condition\": {\"type\": \"nominal\", \"field\": \"income\", \"selection\": \"selector008\"}, \"value\": \"lightgray\"}, \"x\": {\"type\": \"quantitative\", \"aggregate\": \"count\", \"axis\": {\"title\": \"\"}}, \"y\": {\"type\": \"nominal\", \"axis\": {\"labelFontSize\": 11, \"ticks\": false, \"title\": \"\"}, \"field\": \"workclass\", \"sort\": \"-x\"}}, \"height\": 120, \"selection\": {\"selector008\": {\"type\": \"multi\", \"fields\": [\"workclass\"]}}, \"title\": \"Workclass\", \"width\": 200}]}, {\"vconcat\": [{\"mark\": \"bar\", \"encoding\": {\"color\": {\"condition\": {\"type\": \"nominal\", \"field\": \"income\", \"selection\": \"selector010\"}, \"value\": \"lightgray\"}, \"x\": {\"type\": \"quantitative\", \"aggregate\": \"count\", \"axis\": {\"title\": \"\"}}, \"y\": {\"type\": \"nominal\", \"axis\": {\"labelFontSize\": 11, \"ticks\": false, \"title\": \"\"}, \"field\": \"marital-status\", \"sort\": \"-x\"}}, \"selection\": {\"selector010\": {\"type\": \"multi\", \"fields\": [\"marital-status\"]}}, \"title\": \"Marital Status\", \"width\": 200}, {\"mark\": \"bar\", \"encoding\": {\"color\": {\"condition\": {\"type\": \"nominal\", \"field\": \"income\", \"selection\": \"selector011\"}, \"value\": \"lightgray\"}, \"x\": {\"type\": \"quantitative\", \"aggregate\": \"count\", \"axis\": {\"title\": \"\"}}, \"y\": {\"type\": \"nominal\", \"axis\": {\"labelFontSize\": 11, \"ticks\": false, \"title\": \"\"}, \"field\": \"relationship\", \"sort\": \"-x\"}}, \"selection\": {\"selector011\": {\"type\": \"multi\", \"fields\": [\"relationship\"]}}, \"title\": \"Relationship\", \"width\": 200}, {\"mark\": \"bar\", \"encoding\": {\"color\": {\"condition\": {\"type\": \"nominal\", \"field\": \"income\", \"selection\": \"selector012\"}, \"value\": \"lightgray\"}, \"x\": {\"type\": \"quantitative\", \"aggregate\": \"count\", \"axis\": {\"title\": \"\"}}, \"y\": {\"type\": \"nominal\", \"axis\": {\"labelFontSize\": 11, \"ticks\": false, \"title\": \"\"}, \"field\": \"native_country\", \"sort\": \"-x\"}}, \"selection\": {\"selector012\": {\"type\": \"multi\", \"fields\": [\"native_country\"]}}, \"title\": \"Native Country\", \"width\": 200}]}], \"data\": {\"url\": \"altair-data-068a1abd1742ba659bb411ff759adb4b.json\", \"format\": {\"type\": \"json\"}}, \"$schema\": \"https://vega.github.io/schema/vega-lite/v4.8.1.json\"}, {\"mode\": \"vega-lite\"});\n",
       "</script>"
      ],
      "text/plain": [
       "alt.HConcatChart(...)"
      ]
     },
     "metadata": {},
     "output_type": "display_data"
    }
   ],
   "source": [
    "dashboard.display()"
   ]
  },
  {
   "cell_type": "code",
   "execution_count": 38,
   "metadata": {},
   "outputs": [],
   "source": [
    "dashboard.save('dashboard.html')"
   ]
  },
  {
   "cell_type": "markdown",
   "metadata": {},
   "source": [
    "### Alternate Dashboard"
   ]
  },
  {
   "cell_type": "code",
   "execution_count": 39,
   "metadata": {},
   "outputs": [],
   "source": [
    "def get_alternate_bar_chart(data, col, color_col, title, height=None):\n",
    "    chart = alt.Chart(data).mark_bar().encode(\n",
    "                                x= alt.X('count()', axis=alt.Axis(title='')),\n",
    "                                y=  alt.Y(col +':N', sort='-x', \n",
    "                                          axis=alt.Axis(title='', \n",
    "                                                        labelFontSize=11,\n",
    "                                                        ticks=False)),\n",
    "                                color=color_col + ':N'\n",
    "                            )\n",
    "    \n",
    "    if height is None:\n",
    "        chart = chart.properties(\n",
    "            width=200,\n",
    "            title=title\n",
    "        )\n",
    "    else:\n",
    "        chart = chart.properties(\n",
    "            width=200,\n",
    "            height=height,\n",
    "            title=title\n",
    "        )\n",
    "    chart = chart.transform_filter(brush)    \n",
    "    return chart"
   ]
  },
  {
   "cell_type": "code",
   "execution_count": 40,
   "metadata": {},
   "outputs": [],
   "source": [
    "brush = alt.selection_interval()\n",
    "\n",
    "sex_chart = get_alternate_bar_chart(normalized_data, 'sex', 'income', 'Gender')\n",
    "race_chart = get_alternate_bar_chart(normalized_data, 'race', 'income', 'Race')\n",
    "capital_gain_chart = get_alternate_bar_chart(normalized_data, 'capital_gain', 'income', 'Capital Gain')\n",
    "capital_loss_chart = get_alternate_bar_chart(normalized_data, 'capital_loss', 'income', 'Capital Loss')\n",
    "age_chart = get_alternate_bar_chart(normalized_data, '_age', 'income', 'Age')\n",
    "education_chart = get_alternate_bar_chart(normalized_data, '_education_level', 'income', 'Education')\n",
    "occupation_chart = get_alternate_bar_chart(normalized_data, 'occupation', 'income', 'Occupation_sel')\n",
    "workclass_chart = get_alternate_bar_chart(normalized_data, 'workclass', 'income', 'Workclass')\n",
    "hours_chart = get_alternate_bar_chart(normalized_data, 'hours_per_week', 'income', 'Hours/week')\n",
    "marital_chart = get_alternate_bar_chart(normalized_data, 'marital-status', 'income', 'Marital Status')\n",
    "relationship_chart = get_alternate_bar_chart(normalized_data, 'relationship', 'income', 'Relationship')\n",
    "country_chart = get_alternate_bar_chart(normalized_data, 'native_country', 'income', 'Native Country')\n",
    "\n",
    "income_chart = alt.Chart(normalized_data).mark_bar().encode(\n",
    "                                x= alt.X('count()', axis=alt.Axis(title='')),\n",
    "                                y=  alt.Y('income:N', sort='-x', \n",
    "                                          axis=alt.Axis(title='', \n",
    "                                                        labelFontSize=11,\n",
    "                                                        ticks=False)),\n",
    "                                color='income:N'\n",
    "                            ).properties(\n",
    "                                width=500\n",
    "                            )\n",
    "                                 \n",
    "text = income_chart.mark_text(\n",
    "                align='left',\n",
    "                baseline='middle',\n",
    "                dx=3  # Nudges text to right so it doesn't appear on top of the bar\n",
    "            ).encode(\n",
    "                text=alt.Text('count()', format=',d')\n",
    "            )\n",
    "\n",
    "income_and_text = (income_chart + text).transform_filter(\n",
    "                        brush\n",
    "                    )\n",
    "                                 \n",
    "scatter = alt.Chart(normalized_data).mark_circle().encode(\n",
    "                        x=alt.X('x', axis=alt.Axis(title='', labels=False)),\n",
    "                        y=alt.Y('y', axis=alt.Axis(title='', labels=False)),\n",
    "                        color = alt.condition(brush, alt.Color('income:N'), alt.value('lightgray')),\n",
    "                        tooltip=['age', 'workclass', 'education_level', 'education-num',\n",
    "                                 'marital-status', 'occupation', 'relationship', 'race', 'sex',\n",
    "                                 'capital-gain', 'capital-loss', 'hours-per-week', 'native-country']\n",
    "                    ).properties(\n",
    "                        width=500,\n",
    "                        height=500\n",
    "                    ).add_selection(brush)\n",
    "                                 \n",
    "alternate_dashboard = ((scatter & income_and_text)\n",
    "             | (sex_chart & race_chart & capital_gain_chart & capital_loss_chart & age_chart & hours_chart)\n",
    "             | (education_chart & occupation_chart & workclass_chart)\n",
    "             | (marital_chart & relationship_chart & country_chart)\n",
    "                            ).configure_legend(orient='top'\n",
    "                            ).configure_title(fontSize=12)"
   ]
  },
  {
   "cell_type": "code",
   "execution_count": 41,
   "metadata": {},
   "outputs": [
    {
     "data": {
      "text/html": [
       "\n",
       "<div id=\"altair-viz-ae0509e2b13d43b4be1059e810c0daed\"></div>\n",
       "<script type=\"text/javascript\">\n",
       "  (function(spec, embedOpt){\n",
       "    let outputDiv = document.currentScript.previousElementSibling;\n",
       "    if (outputDiv.id !== \"altair-viz-ae0509e2b13d43b4be1059e810c0daed\") {\n",
       "      outputDiv = document.getElementById(\"altair-viz-ae0509e2b13d43b4be1059e810c0daed\");\n",
       "    }\n",
       "    const paths = {\n",
       "      \"vega\": \"https://cdn.jsdelivr.net/npm//vega@5?noext\",\n",
       "      \"vega-lib\": \"https://cdn.jsdelivr.net/npm//vega-lib?noext\",\n",
       "      \"vega-lite\": \"https://cdn.jsdelivr.net/npm//vega-lite@4.8.1?noext\",\n",
       "      \"vega-embed\": \"https://cdn.jsdelivr.net/npm//vega-embed@6?noext\",\n",
       "    };\n",
       "\n",
       "    function loadScript(lib) {\n",
       "      return new Promise(function(resolve, reject) {\n",
       "        var s = document.createElement('script');\n",
       "        s.src = paths[lib];\n",
       "        s.async = true;\n",
       "        s.onload = () => resolve(paths[lib]);\n",
       "        s.onerror = () => reject(`Error loading script: ${paths[lib]}`);\n",
       "        document.getElementsByTagName(\"head\")[0].appendChild(s);\n",
       "      });\n",
       "    }\n",
       "\n",
       "    function showError(err) {\n",
       "      outputDiv.innerHTML = `<div class=\"error\" style=\"color:red;\">${err}</div>`;\n",
       "      throw err;\n",
       "    }\n",
       "\n",
       "    function displayChart(vegaEmbed) {\n",
       "      vegaEmbed(outputDiv, spec, embedOpt)\n",
       "        .catch(err => showError(`Javascript Error: ${err.message}<br>This usually means there's a typo in your chart specification. See the javascript console for the full traceback.`));\n",
       "    }\n",
       "\n",
       "    if(typeof define === \"function\" && define.amd) {\n",
       "      requirejs.config({paths});\n",
       "      require([\"vega-embed\"], displayChart, err => showError(`Error loading script: ${err.message}`));\n",
       "    } else if (typeof vegaEmbed === \"function\") {\n",
       "      displayChart(vegaEmbed);\n",
       "    } else {\n",
       "      loadScript(\"vega\")\n",
       "        .then(() => loadScript(\"vega-lite\"))\n",
       "        .then(() => loadScript(\"vega-embed\"))\n",
       "        .catch(showError)\n",
       "        .then(() => displayChart(vegaEmbed));\n",
       "    }\n",
       "  })({\"config\": {\"view\": {\"continuousWidth\": 400, \"continuousHeight\": 300}, \"legend\": {\"orient\": \"top\"}, \"title\": {\"fontSize\": 12}}, \"hconcat\": [{\"vconcat\": [{\"mark\": \"circle\", \"encoding\": {\"color\": {\"condition\": {\"type\": \"nominal\", \"field\": \"income\", \"selection\": \"selector014\"}, \"value\": \"lightgray\"}, \"tooltip\": [{\"type\": \"quantitative\", \"field\": \"age\"}, {\"type\": \"nominal\", \"field\": \"workclass\"}, {\"type\": \"nominal\", \"field\": \"education_level\"}, {\"type\": \"quantitative\", \"field\": \"education-num\"}, {\"type\": \"nominal\", \"field\": \"marital-status\"}, {\"type\": \"nominal\", \"field\": \"occupation\"}, {\"type\": \"nominal\", \"field\": \"relationship\"}, {\"type\": \"nominal\", \"field\": \"race\"}, {\"type\": \"nominal\", \"field\": \"sex\"}, {\"type\": \"quantitative\", \"field\": \"capital-gain\"}, {\"type\": \"quantitative\", \"field\": \"capital-loss\"}, {\"type\": \"quantitative\", \"field\": \"hours-per-week\"}, {\"type\": \"nominal\", \"field\": \"native-country\"}], \"x\": {\"type\": \"quantitative\", \"axis\": {\"labels\": false, \"title\": \"\"}, \"field\": \"x\"}, \"y\": {\"type\": \"quantitative\", \"axis\": {\"labels\": false, \"title\": \"\"}, \"field\": \"y\"}}, \"height\": 500, \"selection\": {\"selector014\": {\"type\": \"interval\"}}, \"width\": 500}, {\"layer\": [{\"mark\": \"bar\", \"encoding\": {\"color\": {\"type\": \"nominal\", \"field\": \"income\"}, \"x\": {\"type\": \"quantitative\", \"aggregate\": \"count\", \"axis\": {\"title\": \"\"}}, \"y\": {\"type\": \"nominal\", \"axis\": {\"labelFontSize\": 11, \"ticks\": false, \"title\": \"\"}, \"field\": \"income\", \"sort\": \"-x\"}}, \"width\": 500}, {\"mark\": {\"type\": \"text\", \"align\": \"left\", \"baseline\": \"middle\", \"dx\": 3}, \"encoding\": {\"color\": {\"type\": \"nominal\", \"field\": \"income\"}, \"text\": {\"type\": \"quantitative\", \"aggregate\": \"count\", \"format\": \",d\"}, \"x\": {\"type\": \"quantitative\", \"aggregate\": \"count\", \"axis\": {\"title\": \"\"}}, \"y\": {\"type\": \"nominal\", \"axis\": {\"labelFontSize\": 11, \"ticks\": false, \"title\": \"\"}, \"field\": \"income\", \"sort\": \"-x\"}}, \"width\": 500}], \"transform\": [{\"filter\": {\"selection\": \"selector014\"}}]}]}, {\"vconcat\": [{\"mark\": \"bar\", \"encoding\": {\"color\": {\"type\": \"nominal\", \"field\": \"income\"}, \"x\": {\"type\": \"quantitative\", \"aggregate\": \"count\", \"axis\": {\"title\": \"\"}}, \"y\": {\"type\": \"nominal\", \"axis\": {\"labelFontSize\": 11, \"ticks\": false, \"title\": \"\"}, \"field\": \"sex\", \"sort\": \"-x\"}}, \"title\": \"Gender\", \"transform\": [{\"filter\": {\"selection\": \"selector014\"}}], \"width\": 200}, {\"mark\": \"bar\", \"encoding\": {\"color\": {\"type\": \"nominal\", \"field\": \"income\"}, \"x\": {\"type\": \"quantitative\", \"aggregate\": \"count\", \"axis\": {\"title\": \"\"}}, \"y\": {\"type\": \"nominal\", \"axis\": {\"labelFontSize\": 11, \"ticks\": false, \"title\": \"\"}, \"field\": \"race\", \"sort\": \"-x\"}}, \"title\": \"Race\", \"transform\": [{\"filter\": {\"selection\": \"selector014\"}}], \"width\": 200}, {\"mark\": \"bar\", \"encoding\": {\"color\": {\"type\": \"nominal\", \"field\": \"income\"}, \"x\": {\"type\": \"quantitative\", \"aggregate\": \"count\", \"axis\": {\"title\": \"\"}}, \"y\": {\"type\": \"nominal\", \"axis\": {\"labelFontSize\": 11, \"ticks\": false, \"title\": \"\"}, \"field\": \"capital_gain\", \"sort\": \"-x\"}}, \"title\": \"Capital Gain\", \"transform\": [{\"filter\": {\"selection\": \"selector014\"}}], \"width\": 200}, {\"mark\": \"bar\", \"encoding\": {\"color\": {\"type\": \"nominal\", \"field\": \"income\"}, \"x\": {\"type\": \"quantitative\", \"aggregate\": \"count\", \"axis\": {\"title\": \"\"}}, \"y\": {\"type\": \"nominal\", \"axis\": {\"labelFontSize\": 11, \"ticks\": false, \"title\": \"\"}, \"field\": \"capital_loss\", \"sort\": \"-x\"}}, \"title\": \"Capital Loss\", \"transform\": [{\"filter\": {\"selection\": \"selector014\"}}], \"width\": 200}, {\"mark\": \"bar\", \"encoding\": {\"color\": {\"type\": \"nominal\", \"field\": \"income\"}, \"x\": {\"type\": \"quantitative\", \"aggregate\": \"count\", \"axis\": {\"title\": \"\"}}, \"y\": {\"type\": \"nominal\", \"axis\": {\"labelFontSize\": 11, \"ticks\": false, \"title\": \"\"}, \"field\": \"_age\", \"sort\": \"-x\"}}, \"title\": \"Age\", \"transform\": [{\"filter\": {\"selection\": \"selector014\"}}], \"width\": 200}, {\"mark\": \"bar\", \"encoding\": {\"color\": {\"type\": \"nominal\", \"field\": \"income\"}, \"x\": {\"type\": \"quantitative\", \"aggregate\": \"count\", \"axis\": {\"title\": \"\"}}, \"y\": {\"type\": \"nominal\", \"axis\": {\"labelFontSize\": 11, \"ticks\": false, \"title\": \"\"}, \"field\": \"hours_per_week\", \"sort\": \"-x\"}}, \"title\": \"Hours/week\", \"transform\": [{\"filter\": {\"selection\": \"selector014\"}}], \"width\": 200}]}, {\"vconcat\": [{\"mark\": \"bar\", \"encoding\": {\"color\": {\"type\": \"nominal\", \"field\": \"income\"}, \"x\": {\"type\": \"quantitative\", \"aggregate\": \"count\", \"axis\": {\"title\": \"\"}}, \"y\": {\"type\": \"nominal\", \"axis\": {\"labelFontSize\": 11, \"ticks\": false, \"title\": \"\"}, \"field\": \"_education_level\", \"sort\": \"-x\"}}, \"title\": \"Education\", \"transform\": [{\"filter\": {\"selection\": \"selector014\"}}], \"width\": 200}, {\"mark\": \"bar\", \"encoding\": {\"color\": {\"type\": \"nominal\", \"field\": \"income\"}, \"x\": {\"type\": \"quantitative\", \"aggregate\": \"count\", \"axis\": {\"title\": \"\"}}, \"y\": {\"type\": \"nominal\", \"axis\": {\"labelFontSize\": 11, \"ticks\": false, \"title\": \"\"}, \"field\": \"occupation\", \"sort\": \"-x\"}}, \"title\": \"Occupation_sel\", \"transform\": [{\"filter\": {\"selection\": \"selector014\"}}], \"width\": 200}, {\"mark\": \"bar\", \"encoding\": {\"color\": {\"type\": \"nominal\", \"field\": \"income\"}, \"x\": {\"type\": \"quantitative\", \"aggregate\": \"count\", \"axis\": {\"title\": \"\"}}, \"y\": {\"type\": \"nominal\", \"axis\": {\"labelFontSize\": 11, \"ticks\": false, \"title\": \"\"}, \"field\": \"workclass\", \"sort\": \"-x\"}}, \"title\": \"Workclass\", \"transform\": [{\"filter\": {\"selection\": \"selector014\"}}], \"width\": 200}]}, {\"vconcat\": [{\"mark\": \"bar\", \"encoding\": {\"color\": {\"type\": \"nominal\", \"field\": \"income\"}, \"x\": {\"type\": \"quantitative\", \"aggregate\": \"count\", \"axis\": {\"title\": \"\"}}, \"y\": {\"type\": \"nominal\", \"axis\": {\"labelFontSize\": 11, \"ticks\": false, \"title\": \"\"}, \"field\": \"marital-status\", \"sort\": \"-x\"}}, \"title\": \"Marital Status\", \"transform\": [{\"filter\": {\"selection\": \"selector014\"}}], \"width\": 200}, {\"mark\": \"bar\", \"encoding\": {\"color\": {\"type\": \"nominal\", \"field\": \"income\"}, \"x\": {\"type\": \"quantitative\", \"aggregate\": \"count\", \"axis\": {\"title\": \"\"}}, \"y\": {\"type\": \"nominal\", \"axis\": {\"labelFontSize\": 11, \"ticks\": false, \"title\": \"\"}, \"field\": \"relationship\", \"sort\": \"-x\"}}, \"title\": \"Relationship\", \"transform\": [{\"filter\": {\"selection\": \"selector014\"}}], \"width\": 200}, {\"mark\": \"bar\", \"encoding\": {\"color\": {\"type\": \"nominal\", \"field\": \"income\"}, \"x\": {\"type\": \"quantitative\", \"aggregate\": \"count\", \"axis\": {\"title\": \"\"}}, \"y\": {\"type\": \"nominal\", \"axis\": {\"labelFontSize\": 11, \"ticks\": false, \"title\": \"\"}, \"field\": \"native_country\", \"sort\": \"-x\"}}, \"title\": \"Native Country\", \"transform\": [{\"filter\": {\"selection\": \"selector014\"}}], \"width\": 200}]}], \"data\": {\"url\": \"altair-data-068a1abd1742ba659bb411ff759adb4b.json\", \"format\": {\"type\": \"json\"}}, \"$schema\": \"https://vega.github.io/schema/vega-lite/v4.8.1.json\"}, {\"mode\": \"vega-lite\"});\n",
       "</script>"
      ],
      "text/plain": [
       "alt.HConcatChart(...)"
      ]
     },
     "metadata": {},
     "output_type": "display_data"
    }
   ],
   "source": [
    "alternate_dashboard.display()"
   ]
  },
  {
   "cell_type": "code",
   "execution_count": 42,
   "metadata": {},
   "outputs": [],
   "source": [
    "alternate_dashboard.save('alternate_dashboard.html')"
   ]
  },
  {
   "cell_type": "code",
   "execution_count": null,
   "metadata": {},
   "outputs": [],
   "source": []
  }
 ],
 "metadata": {
  "kernelspec": {
   "display_name": "Python 3",
   "language": "python",
   "name": "python3"
  },
  "language_info": {
   "codemirror_mode": {
    "name": "ipython",
    "version": 3
   },
   "file_extension": ".py",
   "mimetype": "text/x-python",
   "name": "python",
   "nbconvert_exporter": "python",
   "pygments_lexer": "ipython3",
   "version": "3.7.6"
  }
 },
 "nbformat": 4,
 "nbformat_minor": 1
}
